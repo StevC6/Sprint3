{
 "cells": [
  {
   "cell_type": "markdown",
   "id": "faf5f4e7",
   "metadata": {},
   "source": [
    "¡Hola!<br />\n",
    "Soy **Francisco Cortés**, estoy contento de revisar tu proyecto y ser parte de tu proceso de aprendizaje.\n",
    "A lo largo del texto, haré algunas observaciones sobre mejoras en el código y también haré comentarios sobre tus percepciones sobre el tema. Si existe algún error en el código, no te preocupes, estoy aquí para ayudarte a mejorarlo, en la primera iteración te lo señalaré para que tengas la oportunidad de corregirlo, pero si aún no encuentras una solución para esta tarea, te daré una pista más precisa en la próxima iteración y también algunos ejemplos prácticos. Estaré abierto a retroalimentación y discusiones sobre el tema.<br />\n",
    "Encontrarás mis comentarios a continuación - **por favor no los muevas, modifiques o borres**.\n",
    "Revisaré cuidadosamente tu código para comprobar que se han cumplido con los requisitos y te proporcionaré mis comentarios en cajas verdes, amarillas o rojas como esta:\n",
    "\n",
    "<div class=\"alert alert-block alert-success\">\n",
    "<b>Comentario del revisor</b> <a class=\"tocSkip\"></a>\n",
    "\n",
    "Si la ejecución fue perfecta succesfully.\n",
    "</div>\n",
    "\n",
    "<div class=\"alert alert-block alert-warning\">\n",
    "<b>Comentario del revisor</b> <a class=\"tocSkip\"></a>\n",
    "\n",
    "Si existe alguna recomendación para que tu código mejore.\n",
    "</div>\n",
    "\n",
    "<div class=\"alert alert-block alert-danger\">\n",
    "\n",
    "<b>Comentario del revisor</b> <a class=\"tocSkip\"></a>\n",
    "\n",
    "Si existen correcciones necesarias para cumplir con los requisitos. El trabajo no puede ser aceptado si hay alguna caja roja.\n",
    "</div>\n",
    "\n",
    "Puedes responderme de la siguiente manera:\n",
    "\n",
    "<div class=\"alert alert-block alert-info\">\n",
    "<b>Respuesta del estudiante.</b> <a class=\"tocSkip\"></a>\n",
    "</div>\n"
   ]
  },
  {
   "cell_type": "markdown",
   "id": "3Xg_RQfnafXz",
   "metadata": {
    "id": "3Xg_RQfnafXz"
   },
   "source": [
    "# ¡Llena ese carrito!"
   ]
  },
  {
   "cell_type": "markdown",
   "id": "mhIvmmkW414q",
   "metadata": {
    "id": "mhIvmmkW414q"
   },
   "source": [
    "# Introducción\n",
    "\n",
    "Instacart es una plataforma de entregas de comestibles donde la clientela puede registrar un pedido y hacer que se lo entreguen, similar a Uber Eats y Door Dash.\n",
    "El conjunto de datos que te hemos proporcionado tiene modificaciones del original. Redujimos el tamaño del conjunto para que tus cálculos se hicieran más rápido e introdujimos valores ausentes y duplicados. Tuvimos cuidado de conservar las distribuciones de los datos originales cuando hicimos los cambios.\n",
    "\n",
    "Debes completar tres pasos. Para cada uno de ellos, escribe una breve introducción que refleje con claridad cómo pretendes resolver cada paso, y escribe párrafos explicatorios que justifiquen tus decisiones al tiempo que avanzas en tu solución.  También escribe una conclusión que resuma tus hallazgos y elecciones.\n"
   ]
  },
  {
   "cell_type": "markdown",
   "id": "3MbyzpOQZ5Or",
   "metadata": {
    "id": "3MbyzpOQZ5Or"
   },
   "source": [
    "## Diccionario de datos\n",
    "\n",
    "Hay cinco tablas en el conjunto de datos, y tendrás que usarlas todas para hacer el preprocesamiento de datos y el análisis exploratorio de datos. A continuación se muestra un diccionario de datos que enumera las columnas de cada tabla y describe los datos que contienen.\n",
    "\n",
    "- `instacart_orders.csv`: cada fila corresponde a un pedido en la aplicación Instacart.\n",
    "    - `'order_id'`: número de ID que identifica de manera única cada pedido.\n",
    "    - `'user_id'`: número de ID que identifica de manera única la cuenta de cada cliente.\n",
    "    - `'order_number'`: el número de veces que este cliente ha hecho un pedido.\n",
    "    - `'order_dow'`: día de la semana en que se hizo el pedido (0 si es domingo).\n",
    "    - `'order_hour_of_day'`: hora del día en que se hizo el pedido.\n",
    "    - `'days_since_prior_order'`: número de días transcurridos desde que este cliente hizo su pedido anterior.\n",
    "- `products.csv`: cada fila corresponde a un producto único que pueden comprar los clientes.\n",
    "    - `'product_id'`: número ID que identifica de manera única cada producto.\n",
    "    - `'product_name'`: nombre del producto.\n",
    "    - `'aisle_id'`: número ID que identifica de manera única cada categoría de pasillo de víveres.\n",
    "    - `'department_id'`: número ID que identifica de manera única cada departamento de víveres.\n",
    "- `order_products.csv`: cada fila corresponde a un artículo pedido en un pedido.\n",
    "    - `'order_id'`: número de ID que identifica de manera única cada pedido.\n",
    "    - `'product_id'`: número ID que identifica de manera única cada producto.\n",
    "    - `'add_to_cart_order'`: el orden secuencial en el que se añadió cada artículo en el carrito.\n",
    "    - `'reordered'`: 0 si el cliente nunca ha pedido este producto antes, 1 si lo ha pedido.\n",
    "- `aisles.csv`\n",
    "    - `'aisle_id'`: número ID que identifica de manera única cada categoría de pasillo de víveres.\n",
    "    - `'aisle'`: nombre del pasillo.\n",
    "- `departments.csv`\n",
    "    - `'department_id'`: número ID que identifica de manera única cada departamento de víveres.\n",
    "    - `'department'`: nombre del departamento."
   ]
  },
  {
   "cell_type": "markdown",
   "id": "n3Ha_cNSZ8lK",
   "metadata": {
    "id": "n3Ha_cNSZ8lK"
   },
   "source": [
    "# Paso 1. Descripción de los datos\n",
    "\n",
    "Lee los archivos de datos (`/datasets/instacart_orders.csv`, `/datasets/products.csv`, `/datasets/aisles.csv`, `/datasets/departments.csv` y `/datasets/order_products.csv`) con `pd.read_csv()` usando los parámetros adecuados para leer los datos correctamente. Verifica la información para cada DataFrame creado.\n"
   ]
  },
  {
   "cell_type": "markdown",
   "id": "OmlQPLlyaAfR",
   "metadata": {
    "id": "OmlQPLlyaAfR"
   },
   "source": [
    "## Plan de solución\n",
    "\n",
    "Escribe aquí tu plan de solución para el Paso 1. Descripción de los datos."
   ]
  },
  {
   "cell_type": "code",
   "execution_count": 1,
   "id": "fbf1adab",
   "metadata": {
    "id": "fbf1adab"
   },
   "outputs": [],
   "source": [
    "# importar librerías\n",
    "import pandas as pd #Libreria necesaria para trabajar con dataframes\n",
    "import numpy as np #libreria que contiene algunas funciones para trabajar con numeros entre otras\n",
    "from matplotlib import pyplot as plt #libreria para realizar los graficos"
   ]
  },
  {
   "cell_type": "code",
   "execution_count": 2,
   "id": "ad36396d",
   "metadata": {
    "id": "ad36396d"
   },
   "outputs": [],
   "source": [
    "# leer conjuntos de datos en los DataFrames\n",
    "orders = pd.read_csv('/datasets/instacart_orders.csv', sep=';') #Leer la ruta del archivo csv especificando como separador al simbolo ;\n",
    "products = pd.read_csv('/datasets/products.csv', sep=';')\n",
    "aisles = pd.read_csv('/datasets/aisles.csv', sep=';')\n",
    "departments = pd.read_csv('/datasets/departments.csv', sep=';')\n",
    "order_products = pd.read_csv('/datasets/order_products.csv', sep=';')"
   ]
  },
  {
   "cell_type": "code",
   "execution_count": 3,
   "id": "ad6a1efa",
   "metadata": {
    "id": "ad6a1efa"
   },
   "outputs": [
    {
     "name": "stdout",
     "output_type": "stream",
     "text": [
      "           order_id        user_id   order_number      order_dow  \\\n",
      "count  4.789670e+05  478967.000000  478967.000000  478967.000000   \n",
      "mean   1.709947e+06  102966.537475      17.157808       2.775058   \n",
      "std    9.869480e+05   59525.328991      17.704688       2.045869   \n",
      "min    4.000000e+00       2.000000       1.000000       0.000000   \n",
      "25%    8.564685e+05   51414.000000       5.000000       1.000000   \n",
      "50%    1.709522e+06  102633.000000      11.000000       3.000000   \n",
      "75%    2.562990e+06  154419.000000      23.000000       5.000000   \n",
      "max    3.421079e+06  206209.000000     100.000000       6.000000   \n",
      "\n",
      "       order_hour_of_day  days_since_prior_order  \n",
      "count      478967.000000           450148.000000  \n",
      "mean           13.446676               11.101751  \n",
      "std             4.224986                9.189975  \n",
      "min             0.000000                0.000000  \n",
      "25%            10.000000                4.000000  \n",
      "50%            13.000000                7.000000  \n",
      "75%            16.000000               15.000000  \n",
      "max            23.000000               30.000000  \n",
      "\n",
      "   order_id  user_id  order_number  order_dow  order_hour_of_day  \\\n",
      "0   1515936   183418            11          6                 13   \n",
      "1   1690866   163593             5          5                 12   \n",
      "2   1454967    39980             4          5                 19   \n",
      "3   1768857    82516            56          0                 20   \n",
      "4   3007858   196724             2          4                 12   \n",
      "\n",
      "   days_since_prior_order  \n",
      "0                    30.0  \n",
      "1                     9.0  \n",
      "2                     2.0  \n",
      "3                    10.0  \n",
      "4                    17.0  \n",
      "\n",
      "<class 'pandas.core.frame.DataFrame'>\n",
      "RangeIndex: 478967 entries, 0 to 478966\n",
      "Data columns (total 6 columns):\n",
      " #   Column                  Non-Null Count   Dtype  \n",
      "---  ------                  --------------   -----  \n",
      " 0   order_id                478967 non-null  int64  \n",
      " 1   user_id                 478967 non-null  int64  \n",
      " 2   order_number            478967 non-null  int64  \n",
      " 3   order_dow               478967 non-null  int64  \n",
      " 4   order_hour_of_day       478967 non-null  int64  \n",
      " 5   days_since_prior_order  450148 non-null  float64\n",
      "dtypes: float64(1), int64(5)\n",
      "memory usage: 21.9 MB\n"
     ]
    }
   ],
   "source": [
    "# mostrar información del DataFrame\n",
    "print(orders.describe())#Funcion para ver calculos generales sobre los datos del dataframe\n",
    "print()\n",
    "print(orders.head(5)) #Funcion para obtener 5 datos al azar del dataframe\n",
    "print()\n",
    "orders.info() #Funcion para ver informacion general de los datos del dataframe"
   ]
  },
  {
   "cell_type": "code",
   "execution_count": 4,
   "id": "5130e05e",
   "metadata": {
    "id": "5130e05e"
   },
   "outputs": [
    {
     "name": "stdout",
     "output_type": "stream",
     "text": [
      "         product_id      aisle_id  department_id\n",
      "count  49694.000000  49694.000000   49694.000000\n",
      "mean   24847.500000     67.773192      11.728478\n",
      "std    14345.566475     38.317265       5.850314\n",
      "min        1.000000      1.000000       1.000000\n",
      "25%    12424.250000     35.000000       7.000000\n",
      "50%    24847.500000     69.000000      13.000000\n",
      "75%    37270.750000    100.000000      17.000000\n",
      "max    49694.000000    134.000000      21.000000\n",
      "\n",
      "       product_id                          product_name  aisle_id  \\\n",
      "7762         7763                 Raven Liquid Eyeliner       132   \n",
      "29204       29205                      Mint (Spearmint)        16   \n",
      "41556       41557  Original Deli Style Pretzel Crackers       107   \n",
      "36335       36336               Shin Ramyun Noodle Soup         4   \n",
      "8320         8321   Italian Blend Fancy Shredded Cheese        21   \n",
      "\n",
      "       department_id  \n",
      "7762              11  \n",
      "29204              4  \n",
      "41556             19  \n",
      "36335              9  \n",
      "8320              16  \n",
      "\n",
      "<class 'pandas.core.frame.DataFrame'>\n",
      "RangeIndex: 49694 entries, 0 to 49693\n",
      "Data columns (total 4 columns):\n",
      " #   Column         Non-Null Count  Dtype \n",
      "---  ------         --------------  ----- \n",
      " 0   product_id     49694 non-null  int64 \n",
      " 1   product_name   48436 non-null  object\n",
      " 2   aisle_id       49694 non-null  int64 \n",
      " 3   department_id  49694 non-null  int64 \n",
      "dtypes: int64(3), object(1)\n",
      "memory usage: 1.5+ MB\n"
     ]
    }
   ],
   "source": [
    "# mostrar información del DataFrame\n",
    "print(products.describe())\n",
    "print()\n",
    "print(products.sample(5))\n",
    "print()\n",
    "products.info()"
   ]
  },
  {
   "cell_type": "code",
   "execution_count": 5,
   "id": "d8370c05",
   "metadata": {
    "id": "d8370c05"
   },
   "outputs": [
    {
     "name": "stdout",
     "output_type": "stream",
     "text": [
      "         aisle_id\n",
      "count  134.000000\n",
      "mean    67.500000\n",
      "std     38.826537\n",
      "min      1.000000\n",
      "25%     34.250000\n",
      "50%     67.500000\n",
      "75%    100.750000\n",
      "max    134.000000\n",
      "\n",
      "     aisle_id                          aisle\n",
      "99        100                        missing\n",
      "12         13                 prepared meals\n",
      "70         71  refrigerated pudding desserts\n",
      "130       131                      dry pasta\n",
      "36         37                  ice cream ice\n",
      "\n",
      "<class 'pandas.core.frame.DataFrame'>\n",
      "RangeIndex: 134 entries, 0 to 133\n",
      "Data columns (total 2 columns):\n",
      " #   Column    Non-Null Count  Dtype \n",
      "---  ------    --------------  ----- \n",
      " 0   aisle_id  134 non-null    int64 \n",
      " 1   aisle     134 non-null    object\n",
      "dtypes: int64(1), object(1)\n",
      "memory usage: 2.2+ KB\n"
     ]
    }
   ],
   "source": [
    "# mostrar información del DataFrame\n",
    "print(aisles.describe())\n",
    "print()\n",
    "print(aisles.sample(5))\n",
    "print()\n",
    "aisles.info()"
   ]
  },
  {
   "cell_type": "code",
   "execution_count": 6,
   "id": "59e2090f",
   "metadata": {
    "id": "59e2090f"
   },
   "outputs": [
    {
     "name": "stdout",
     "output_type": "stream",
     "text": [
      "       department_id\n",
      "count      21.000000\n",
      "mean       11.000000\n",
      "std         6.204837\n",
      "min         1.000000\n",
      "25%         6.000000\n",
      "50%        11.000000\n",
      "75%        16.000000\n",
      "max        21.000000\n",
      "\n",
      "    department_id     department\n",
      "17             18         babies\n",
      "2               3         bakery\n",
      "10             11  personal care\n",
      "15             16     dairy eggs\n",
      "12             13         pantry\n",
      "\n",
      "<class 'pandas.core.frame.DataFrame'>\n",
      "RangeIndex: 21 entries, 0 to 20\n",
      "Data columns (total 2 columns):\n",
      " #   Column         Non-Null Count  Dtype \n",
      "---  ------         --------------  ----- \n",
      " 0   department_id  21 non-null     int64 \n",
      " 1   department     21 non-null     object\n",
      "dtypes: int64(1), object(1)\n",
      "memory usage: 464.0+ bytes\n"
     ]
    }
   ],
   "source": [
    "# mostrar información del DataFrame\n",
    "print(departments.describe())\n",
    "print()\n",
    "print(departments.sample(5))\n",
    "print()\n",
    "departments.info()\n"
   ]
  },
  {
   "cell_type": "code",
   "execution_count": 7,
   "id": "6fc81694",
   "metadata": {
    "id": "6fc81694"
   },
   "outputs": [
    {
     "name": "stdout",
     "output_type": "stream",
     "text": [
      "           order_id    product_id  add_to_cart_order     reordered\n",
      "count  4.545007e+06  4.545007e+06       4.544171e+06  4.545007e+06\n",
      "mean   1.711166e+06  2.558084e+04       8.351669e+00  5.905025e-01\n",
      "std    9.850955e+05  1.409552e+04       7.080368e+00  4.917411e-01\n",
      "min    4.000000e+00  1.000000e+00       1.000000e+00  0.000000e+00\n",
      "25%    8.608170e+05  1.353500e+04       3.000000e+00  0.000000e+00\n",
      "50%    1.711530e+06  2.527200e+04       6.000000e+00  1.000000e+00\n",
      "75%    2.561311e+06  3.793500e+04       1.100000e+01  1.000000e+00\n",
      "max    3.421079e+06  4.969400e+04       6.400000e+01  1.000000e+00\n",
      "\n",
      "   order_id  product_id  add_to_cart_order  reordered\n",
      "0   2141543       11440               17.0          0\n",
      "1    567889        1560                1.0          1\n",
      "2   2261212       26683                1.0          1\n",
      "3    491251        8670               35.0          1\n",
      "4   2571142        1940                5.0          1\n",
      "\n",
      "<class 'pandas.core.frame.DataFrame'>\n",
      "RangeIndex: 4545007 entries, 0 to 4545006\n",
      "Data columns (total 4 columns):\n",
      " #   Column             Dtype  \n",
      "---  ------             -----  \n",
      " 0   order_id           int64  \n",
      " 1   product_id         int64  \n",
      " 2   add_to_cart_order  float64\n",
      " 3   reordered          int64  \n",
      "dtypes: float64(1), int64(3)\n",
      "memory usage: 138.7 MB\n"
     ]
    }
   ],
   "source": [
    "# mostrar información del DataFrame\n",
    "print(order_products.describe())\n",
    "print()\n",
    "print(order_products.head())\n",
    "print()\n",
    "order_products.info()"
   ]
  },
  {
   "cell_type": "markdown",
   "id": "t75BD19oaR5f",
   "metadata": {
    "id": "t75BD19oaR5f"
   },
   "source": [
    "## Conclusiones\n",
    "\n",
    "-Tenemos 5 dataframes los cuales tienen un archivo csv donde el separador es el simbolo ';'  \n",
    "-Existen datos ausentes en el dataframe \"instacart_orders\" en la columna \"days_since_prior_order\"  \n",
    "-En promedio los clientes tardan alrededor de 11 dias en hacer otro pedido.  \n",
    "-En el dataframe \"products\" faltan valores en la columna \"product_name\".  \n",
    "-En los dataframes \"aisles\" y \"departments\" no existen datos ausentes.\n",
    "\n",
    "\n"
   ]
  },
  {
   "cell_type": "markdown",
   "id": "91d3ce9b",
   "metadata": {},
   "source": [
    "<div class=\"alert alert-block alert-success\">\n",
    "<b>Comentario del revisor</b> <a class=\"tocSkip\"></a><br />\n",
    "Correcto, buena manera de leer los datos y buenas observaciones iniciales\n",
    "</div>\n"
   ]
  },
  {
   "cell_type": "markdown",
   "id": "8RJHqxVmaVsF",
   "metadata": {
    "id": "8RJHqxVmaVsF"
   },
   "source": [
    "# Paso 2. Preprocesamiento de los datos\n",
    "\n",
    "Preprocesa los datos de la siguiente manera:\n",
    "\n",
    "- Verifica y corrige los tipos de datos (por ejemplo, asegúrate de que las columnas de ID sean números enteros).\n",
    "- Identifica y completa los valores ausentes.\n",
    "- Identifica y elimina los valores duplicados.\n",
    "\n",
    "Asegúrate de explicar qué tipos de valores ausentes y duplicados encontraste, cómo los completaste o eliminaste y por qué usaste esos métodos. ¿Por qué crees que estos valores ausentes y duplicados pueden haber estado presentes en el conjunto de datos?"
   ]
  },
  {
   "cell_type": "markdown",
   "id": "p6poABZQaZYb",
   "metadata": {
    "id": "p6poABZQaZYb"
   },
   "source": [
    "## Plan de solución\n",
    "\n",
    "Escribe aquí tu plan para el Paso 2. Preprocesamiento de los datos.  \n",
    "-Identificar los nombres de las columnas de cada dataframe para ver que estas tengan una estructura coherente.\n",
    "-Revisar los posibles valores ausentes y duplicados.  \n",
    "-Determinar si es mas factible rellenar los valores ausentes en caso de que estos sean numericos ya sea con la media o la mediana.  \n",
    "-Eliminar los datos duplicados innecesarios.  \n",
    "-Verificar que el tipo de datos de cada columna sea coherente con el tipo de datos que pretende mostrar.\n"
   ]
  },
  {
   "cell_type": "markdown",
   "id": "07357848-dc64-4156-9cc3-01ff4365226d",
   "metadata": {
    "id": "07357848-dc64-4156-9cc3-01ff4365226d"
   },
   "source": [
    "## Encuentra y elimina los valores duplicados (y describe cómo tomaste tus decisiones)."
   ]
  },
  {
   "cell_type": "markdown",
   "id": "f179f0a9",
   "metadata": {
    "id": "f179f0a9"
   },
   "source": [
    "### `orders` data frame"
   ]
  },
  {
   "cell_type": "code",
   "execution_count": 8,
   "id": "b99297a5-405a-463d-8535-9adc3da4ad74",
   "metadata": {
    "id": "b99297a5-405a-463d-8535-9adc3da4ad74"
   },
   "outputs": [
    {
     "name": "stdout",
     "output_type": "stream",
     "text": [
      "        order_id  user_id  order_number  order_dow  order_hour_of_day  \\\n",
      "145574    794638    50898            24          3                  2   \n",
      "223105   2160484   107525            16          3                  2   \n",
      "230807   1918001   188546            14          3                  2   \n",
      "266232   1782114   106752             1          3                  2   \n",
      "273805   1112182   202304            84          3                  2   \n",
      "284038   2845099    31189            11          3                  2   \n",
      "311713   1021560    53767             3          3                  2   \n",
      "321100    408114    68324             4          3                  2   \n",
      "323900   1919531   191501            32          3                  2   \n",
      "345917   2232988    82565             1          3                  2   \n",
      "371905    391768    57671            19          3                  2   \n",
      "394347    467134    63189            21          3                  2   \n",
      "411408   1286742   183220            48          3                  2   \n",
      "415163   2282673    86751            49          3                  2   \n",
      "441599   2125197    14050            48          3                  2   \n",
      "\n",
      "        days_since_prior_order  \n",
      "145574                     2.0  \n",
      "223105                    30.0  \n",
      "230807                    16.0  \n",
      "266232                     NaN  \n",
      "273805                     6.0  \n",
      "284038                     7.0  \n",
      "311713                     9.0  \n",
      "321100                    18.0  \n",
      "323900                     7.0  \n",
      "345917                     NaN  \n",
      "371905                    10.0  \n",
      "394347                     2.0  \n",
      "411408                     4.0  \n",
      "415163                     2.0  \n",
      "441599                     3.0  \n",
      "\n",
      "La cantidad de datos duplicados es: 15\n"
     ]
    }
   ],
   "source": [
    "# Revisa si hay pedidos duplicados\n",
    "print(orders[orders.duplicated()]) \n",
    "print()\n",
    "print('La cantidad de datos duplicados es:', orders.duplicated().sum())"
   ]
  },
  {
   "cell_type": "markdown",
   "id": "PEkwUX_gvt5A",
   "metadata": {
    "id": "PEkwUX_gvt5A"
   },
   "source": [
    "¿Tienes líneas duplicadas? Si sí, ¿qué tienen en común?  \n",
    "Todas fueron realizadas un dia miercoles a las 2 am"
   ]
  },
  {
   "cell_type": "code",
   "execution_count": 9,
   "id": "0d44de5d",
   "metadata": {
    "id": "0d44de5d"
   },
   "outputs": [
    {
     "name": "stdout",
     "output_type": "stream",
     "text": [
      "order_id  user_id  order_number  order_dow  order_hour_of_day  days_since_prior_order\n",
      "794638    50898    24            3          2                  2.0                       2\n",
      "1919531   191501   32            3          2                  7.0                       2\n",
      "2845099   31189    11            3          2                  7.0                       2\n",
      "467134    63189    21            3          2                  2.0                       2\n",
      "1112182   202304   84            3          2                  6.0                       2\n",
      "                                                                                        ..\n",
      "898850    14380    4             3          2                  30.0                      1\n",
      "851025    168387   54            3          2                  15.0                      1\n",
      "819551    29545    15            3          2                  4.0                       1\n",
      "781491    51960    5             3          2                  30.0                      1\n",
      "3389820   21703    2             3          2                  11.0                      1\n",
      "Length: 101, dtype: int64\n"
     ]
    }
   ],
   "source": [
    "# Basándote en tus hallazgos,\n",
    "# Verifica todos los pedidos que se hicieron el miércoles a las 2:00 a.m.\n",
    "print(orders[(orders['order_dow'] == 3) & (orders['order_hour_of_day'] == 2)].value_counts())#Codigo para verificar cuantas veces ocurrio un pedido el dia miercoles a las 2 am\n"
   ]
  },
  {
   "cell_type": "markdown",
   "id": "vu2OWyoqwOx5",
   "metadata": {
    "id": "vu2OWyoqwOx5"
   },
   "source": [
    "¿Qué sugiere este resultado?  \n",
    "Probablemente hubo un error en el sistema de recoleccion de datos el dia miercoles a las 2 am ya que varios de los pedidos de ese dia a esa hora se encuentran duplicados."
   ]
  },
  {
   "cell_type": "code",
   "execution_count": 10,
   "id": "480563c7",
   "metadata": {
    "id": "480563c7"
   },
   "outputs": [],
   "source": [
    "# Elimina los pedidos duplicados\n",
    "orders = orders.drop_duplicates()"
   ]
  },
  {
   "cell_type": "code",
   "execution_count": 11,
   "id": "0b2396a2",
   "metadata": {
    "id": "0b2396a2"
   },
   "outputs": [
    {
     "name": "stdout",
     "output_type": "stream",
     "text": [
      "La cantidad de datos duplicados es: 0\n"
     ]
    }
   ],
   "source": [
    "# Vuelve a verificar si hay filas duplicadas\n",
    "print('La cantidad de datos duplicados es:',orders.duplicated().sum())"
   ]
  },
  {
   "cell_type": "code",
   "execution_count": 12,
   "id": "f6113ef1",
   "metadata": {
    "id": "f6113ef1"
   },
   "outputs": [
    {
     "name": "stdout",
     "output_type": "stream",
     "text": [
      "1048576    1\n",
      "3389216    1\n",
      "1100604    1\n",
      "1275704    1\n",
      "2337103    1\n",
      "          ..\n",
      "1752059    1\n",
      "2794488    1\n",
      "711671     1\n",
      "1711087    1\n",
      "2047       1\n",
      "Name: order_id, Length: 478952, dtype: int64\n"
     ]
    }
   ],
   "source": [
    "# Vuelve a verificar únicamente si hay IDs duplicados de pedidos\n",
    "print(orders['order_id'].value_counts())"
   ]
  },
  {
   "cell_type": "markdown",
   "id": "5e8905ae",
   "metadata": {
    "id": "5e8905ae"
   },
   "source": [
    "Describe brevemente tus hallazgos y lo que hiciste con ellos  \n",
    "Existian 15 valores duplicados los cuales ocurrieron el mismo dia a la misma hora lo cual puede indicar algun tipo de falla en el sistema de recoleccion de datos por lo tanto varios pedidos se encontraban duplicados, estos al compartir el mismo ID quiere decir que no se trata de un mismo cliente haciendo varios pedidos sino mas bien de un mismo pedido registrado varias veces en el Dataset por lo tanto fueron eliminados."
   ]
  },
  {
   "cell_type": "markdown",
   "id": "5711d7de",
   "metadata": {},
   "source": [
    "<div class=\"alert alert-block alert-success\">\n",
    "<b>Comentario del revisor</b> <a class=\"tocSkip\"></a><br />\n",
    "Correcto, buena manera de eliminar los datos duplicados\n",
    "</div>\n"
   ]
  },
  {
   "cell_type": "markdown",
   "id": "45e6bc46",
   "metadata": {
    "id": "45e6bc46"
   },
   "source": [
    "### `products` data frame"
   ]
  },
  {
   "cell_type": "code",
   "execution_count": 13,
   "id": "5f526b5b-8175-46fa-a0fd-441767d50e64",
   "metadata": {
    "id": "5f526b5b-8175-46fa-a0fd-441767d50e64"
   },
   "outputs": [
    {
     "name": "stdout",
     "output_type": "stream",
     "text": [
      "Empty DataFrame\n",
      "Columns: [product_id, product_name, aisle_id, department_id]\n",
      "Index: []\n",
      "\n",
      "La cantidad de datos duplicados es: 0\n"
     ]
    }
   ],
   "source": [
    "# Verifica si hay filas totalmente duplicadas\n",
    "print(products[products.duplicated()]) \n",
    "print()\n",
    "print('La cantidad de datos duplicados es:', products.duplicated().sum())"
   ]
  },
  {
   "cell_type": "code",
   "execution_count": 14,
   "id": "88daa4f4",
   "metadata": {
    "id": "88daa4f4"
   },
   "outputs": [
    {
     "name": "stdout",
     "output_type": "stream",
     "text": [
      "11    6564\n",
      "19    6264\n",
      "13    5372\n",
      "7     4366\n",
      "1     4008\n",
      "16    3449\n",
      "17    3085\n",
      "15    2092\n",
      "9     1858\n",
      "4     1684\n",
      "3     1516\n",
      "20    1322\n",
      "21    1258\n",
      "6     1139\n",
      "14    1117\n",
      "18    1081\n",
      "5     1054\n",
      "8      972\n",
      "12     907\n",
      "2      548\n",
      "10      38\n",
      "Name: department_id, dtype: int64\n",
      "\n",
      "True     49673\n",
      "False       21\n",
      "dtype: int64\n"
     ]
    }
   ],
   "source": [
    "# Revisa únicamente si hay ID de departamentos duplicados\n",
    "print(products['department_id'].value_counts())\n",
    "print()\n",
    "duplicated_department_id = products.duplicated(subset=['department_id'])\n",
    "print(duplicated_department_id.value_counts())"
   ]
  },
  {
   "cell_type": "code",
   "execution_count": 15,
   "id": "c773f0bf",
   "metadata": {
    "id": "c773f0bf"
   },
   "outputs": [
    {
     "name": "stdout",
     "output_type": "stream",
     "text": [
      "False    48333\n",
      "True      1361\n",
      "dtype: int64\n"
     ]
    }
   ],
   "source": [
    "# Revisa únicamente si hay nombres duplicados de productos (convierte los nombres a letras mayúsculas para compararlos mejor)\n",
    "products['product_name'] = products['product_name'].str.upper()\n",
    "duplicated_products = products.duplicated(subset=['product_name'])\n",
    "print(duplicated_products.value_counts())"
   ]
  },
  {
   "cell_type": "code",
   "execution_count": 16,
   "id": "01efd02e",
   "metadata": {
    "id": "01efd02e"
   },
   "outputs": [
    {
     "name": "stdout",
     "output_type": "stream",
     "text": [
      "True    49694\n",
      "dtype: int64\n",
      "False    48436\n",
      "dtype: int64\n"
     ]
    }
   ],
   "source": [
    "# Revisa si hay nombres duplicados de productos no faltantes\n",
    "print(products.duplicated(subset=['product_name']).notna().value_counts())\n",
    "print(products[products['product_name'].notna()].duplicated().value_counts())"
   ]
  },
  {
   "cell_type": "markdown",
   "id": "9da8d293",
   "metadata": {
    "id": "9da8d293"
   },
   "source": [
    "Describe brevemente tus hallazgos y lo que hiciste con ellos.  \n",
    "Aparentemente en este Dataframe no hay filas duplicadas por completo, existen varios nombres de producto repetidos, sin embargo estas tienen ID de producto diferente por lo que puede sugerir que puede ser un mismo producto pero de diferente marca o presentacion, por lo tanto no se ha eliminado ningun dato."
   ]
  },
  {
   "cell_type": "markdown",
   "id": "b6f2a9be",
   "metadata": {},
   "source": [
    "<div class=\"alert alert-block alert-success\">\n",
    "<b>Comentario del revisor</b> <a class=\"tocSkip\"></a><br />\n",
    "Correcto, buena manera de revisar los datos y buenas observaciones\n",
    "</div>\n"
   ]
  },
  {
   "cell_type": "markdown",
   "id": "60f30db1",
   "metadata": {
    "id": "60f30db1"
   },
   "source": [
    "### `departments` data frame"
   ]
  },
  {
   "cell_type": "code",
   "execution_count": 17,
   "id": "fb410ad4-0fbf-4b80-bb09-23fdea79afe3",
   "metadata": {
    "id": "fb410ad4-0fbf-4b80-bb09-23fdea79afe3"
   },
   "outputs": [
    {
     "name": "stdout",
     "output_type": "stream",
     "text": [
      "Empty DataFrame\n",
      "Columns: [department_id, department]\n",
      "Index: []\n",
      "\n",
      "La cantidad de datos duplicados es: 0\n"
     ]
    }
   ],
   "source": [
    "# Revisa si hay filas totalmente duplicadas\n",
    "print(departments[departments.duplicated()]) \n",
    "print()\n",
    "print('La cantidad de datos duplicados es:', departments.duplicated().sum())"
   ]
  },
  {
   "cell_type": "code",
   "execution_count": 18,
   "id": "332b12bb",
   "metadata": {
    "id": "332b12bb"
   },
   "outputs": [
    {
     "name": "stdout",
     "output_type": "stream",
     "text": [
      "False    21\n",
      "dtype: int64\n"
     ]
    }
   ],
   "source": [
    "# Revisa únicamente si hay IDs duplicadas de productos\n",
    "print(departments.duplicated(subset=['department_id']).value_counts())"
   ]
  },
  {
   "cell_type": "markdown",
   "id": "bd30d78e",
   "metadata": {
    "id": "bd30d78e"
   },
   "source": [
    "Describe brevemente tus hallazgos y lo que hiciste con ellos.  \n",
    "No existen datos duplicados por lo tanto no es necesario hacer nada."
   ]
  },
  {
   "cell_type": "markdown",
   "id": "889349c1",
   "metadata": {
    "id": "889349c1"
   },
   "source": [
    "### `aisles` data frame"
   ]
  },
  {
   "cell_type": "code",
   "execution_count": 19,
   "id": "9da89fb9-4679-40f5-ad0d-c34df753a3f8",
   "metadata": {
    "id": "9da89fb9-4679-40f5-ad0d-c34df753a3f8"
   },
   "outputs": [
    {
     "name": "stdout",
     "output_type": "stream",
     "text": [
      "Empty DataFrame\n",
      "Columns: [aisle_id, aisle]\n",
      "Index: []\n",
      "\n",
      "La cantidad de datos duplicados es: 0\n"
     ]
    }
   ],
   "source": [
    "# Revisa si hay filas totalmente duplicadas\n",
    "print(aisles[aisles.duplicated()]) \n",
    "print()\n",
    "print('La cantidad de datos duplicados es:', aisles.duplicated().sum())"
   ]
  },
  {
   "cell_type": "code",
   "execution_count": 20,
   "id": "da7c2822",
   "metadata": {
    "id": "da7c2822"
   },
   "outputs": [
    {
     "name": "stdout",
     "output_type": "stream",
     "text": [
      "False    134\n",
      "dtype: int64\n"
     ]
    }
   ],
   "source": [
    "# Revisa únicamente si hay IDs duplicadas de productos\n",
    "print(aisles.duplicated(subset=['aisle_id']).value_counts())"
   ]
  },
  {
   "cell_type": "markdown",
   "id": "ac63826f",
   "metadata": {
    "id": "ac63826f"
   },
   "source": [
    "Describe brevemente tus hallazgos y lo que hiciste con ellos.  \n",
    "No existen datos duplicados por lo tanto no es necesario hacer nada."
   ]
  },
  {
   "cell_type": "markdown",
   "id": "274cd06a",
   "metadata": {
    "id": "274cd06a"
   },
   "source": [
    "### `order_products` data frame"
   ]
  },
  {
   "cell_type": "code",
   "execution_count": 21,
   "id": "52326689-84a8-4b8f-a881-7c68780f62c9",
   "metadata": {
    "id": "52326689-84a8-4b8f-a881-7c68780f62c9"
   },
   "outputs": [
    {
     "name": "stdout",
     "output_type": "stream",
     "text": [
      "Empty DataFrame\n",
      "Columns: [order_id, product_id, add_to_cart_order, reordered]\n",
      "Index: []\n",
      "\n",
      "La cantidad de datos duplicados es: 0\n"
     ]
    }
   ],
   "source": [
    "# Revisa si hay filas totalmente duplicadas\n",
    "print(order_products[order_products.duplicated()]) \n",
    "print()\n",
    "print('La cantidad de datos duplicados es:', order_products.duplicated().sum())"
   ]
  },
  {
   "cell_type": "code",
   "execution_count": null,
   "id": "7b861391",
   "metadata": {
    "id": "7b861391"
   },
   "outputs": [],
   "source": []
  },
  {
   "cell_type": "markdown",
   "id": "0b890492",
   "metadata": {
    "id": "0b890492"
   },
   "source": [
    "Describe brevemente tus hallazgos y lo que hiciste con ellos.  \n",
    "No se encontraron explicitamente filas repetidas"
   ]
  },
  {
   "cell_type": "markdown",
   "id": "d9aa9955",
   "metadata": {},
   "source": [
    "<div class=\"alert alert-block alert-success\">\n",
    "<b>Comentario del revisor</b> <a class=\"tocSkip\"></a><br />\n",
    "Correcto, no hay valores duplicados en los últimos dataframes\n",
    "</div>\n"
   ]
  },
  {
   "cell_type": "markdown",
   "id": "1e46de76",
   "metadata": {
    "id": "1e46de76"
   },
   "source": [
    "## Encuentra y elimina los valores ausentes\n",
    "\n",
    "Al trabajar con valores duplicados, pudimos observar que también nos falta investigar valores ausentes:\n",
    "\n",
    "* La columna `'product_name'` de la tabla products.\n",
    "* La columna `'days_since_prior_order'` de la tabla orders.\n",
    "* La columna `'add_to_cart_order'` de la tabla order_productos."
   ]
  },
  {
   "cell_type": "markdown",
   "id": "c0aebd78",
   "metadata": {
    "id": "c0aebd78"
   },
   "source": [
    "### `products` data frame"
   ]
  },
  {
   "cell_type": "code",
   "execution_count": 22,
   "id": "fe4a8b0f",
   "metadata": {
    "id": "fe4a8b0f"
   },
   "outputs": [
    {
     "name": "stdout",
     "output_type": "stream",
     "text": [
      "       product_id product_name  aisle_id  department_id\n",
      "37             38          NaN       100             21\n",
      "71             72          NaN       100             21\n",
      "109           110          NaN       100             21\n",
      "296           297          NaN       100             21\n",
      "416           417          NaN       100             21\n",
      "...           ...          ...       ...            ...\n",
      "49552       49553          NaN       100             21\n",
      "49574       49575          NaN       100             21\n",
      "49640       49641          NaN       100             21\n",
      "49663       49664          NaN       100             21\n",
      "49668       49669          NaN       100             21\n",
      "\n",
      "[1258 rows x 4 columns]\n",
      "La cantidad de productos sin nombre es:  1258\n"
     ]
    }
   ],
   "source": [
    "# Encuentra los valores ausentes en la columna 'product_name'\n",
    "print(products[products['product_name'].isna()])\n",
    "print('La cantidad de productos sin nombre es: ',products['product_name'].isna().value_counts()[True])\n"
   ]
  },
  {
   "cell_type": "markdown",
   "id": "-A6x1AbJhjkp",
   "metadata": {
    "id": "-A6x1AbJhjkp"
   },
   "source": [
    "Describe brevemente cuáles son tus hallazgos.\n",
    "1258 productos no tienen nombre."
   ]
  },
  {
   "cell_type": "code",
   "execution_count": 23,
   "id": "e96167bc",
   "metadata": {
    "id": "e96167bc"
   },
   "outputs": [
    {
     "name": "stdout",
     "output_type": "stream",
     "text": [
      "       product_id product_name  aisle_id  department_id\n",
      "37             38          NaN       100             21\n",
      "71             72          NaN       100             21\n",
      "109           110          NaN       100             21\n",
      "296           297          NaN       100             21\n",
      "416           417          NaN       100             21\n",
      "...           ...          ...       ...            ...\n",
      "49552       49553          NaN       100             21\n",
      "49574       49575          NaN       100             21\n",
      "49640       49641          NaN       100             21\n",
      "49663       49664          NaN       100             21\n",
      "49668       49669          NaN       100             21\n",
      "\n",
      "[1258 rows x 4 columns]\n"
     ]
    }
   ],
   "source": [
    "#  ¿Todos los nombres de productos ausentes están relacionados con el pasillo con ID 100?\n",
    "print(products[(products['product_name'].isna()) & (products['aisle_id'] ==100)])"
   ]
  },
  {
   "cell_type": "markdown",
   "id": "WRpIfXRphpSL",
   "metadata": {
    "id": "WRpIfXRphpSL"
   },
   "source": [
    "Describe brevemente cuáles son tus hallazgos.\n",
    "El pasillo 100 no tiene nombres de productos."
   ]
  },
  {
   "cell_type": "code",
   "execution_count": 24,
   "id": "8fd0a541",
   "metadata": {
    "id": "8fd0a541"
   },
   "outputs": [
    {
     "name": "stdout",
     "output_type": "stream",
     "text": [
      "       product_id product_name  aisle_id  department_id\n",
      "37             38          NaN       100             21\n",
      "71             72          NaN       100             21\n",
      "109           110          NaN       100             21\n",
      "296           297          NaN       100             21\n",
      "416           417          NaN       100             21\n",
      "...           ...          ...       ...            ...\n",
      "49552       49553          NaN       100             21\n",
      "49574       49575          NaN       100             21\n",
      "49640       49641          NaN       100             21\n",
      "49663       49664          NaN       100             21\n",
      "49668       49669          NaN       100             21\n",
      "\n",
      "[1258 rows x 4 columns]\n"
     ]
    }
   ],
   "source": [
    "# ¿Todos los nombres de productos ausentes están relacionados con el departamento con ID 21?\n",
    "print(products[(products['product_name'].isna()) & (products['department_id'] ==21)])"
   ]
  },
  {
   "cell_type": "markdown",
   "id": "qDpdYn1Fht_I",
   "metadata": {
    "id": "qDpdYn1Fht_I"
   },
   "source": [
    "Describe brevemente cuáles son tus hallazgos.\n",
    "El departamento 21 no tiene nombres de productos."
   ]
  },
  {
   "cell_type": "code",
   "execution_count": 25,
   "id": "325c3464",
   "metadata": {
    "id": "325c3464"
   },
   "outputs": [
    {
     "name": "stdout",
     "output_type": "stream",
     "text": [
      "    department_id department\n",
      "20             21    missing\n",
      "\n",
      "    aisle_id    aisle\n",
      "99       100  missing\n"
     ]
    }
   ],
   "source": [
    "# Usa las tablas department y aisle para revisar los datos del pasillo con ID 100 y el departamento con ID 21.\n",
    "print(departments[departments['department_id']== 21])\n",
    "print()\n",
    "print(aisles[aisles['aisle_id']== 100])"
   ]
  },
  {
   "cell_type": "markdown",
   "id": "nqhSTUPhhvEJ",
   "metadata": {
    "id": "nqhSTUPhhvEJ"
   },
   "source": [
    "Describe brevemente cuáles son tus hallazgos.  \n",
    "Probablemente los datos de ese departamento y pasillo se han perdido."
   ]
  },
  {
   "cell_type": "code",
   "execution_count": 26,
   "id": "6b295120",
   "metadata": {
    "id": "6b295120"
   },
   "outputs": [],
   "source": [
    "# Completa los nombres de productos ausentes con 'Unknown'\n",
    "products['product_name'].fillna('Unknown', inplace=True)"
   ]
  },
  {
   "cell_type": "markdown",
   "id": "fc70e5ad",
   "metadata": {
    "id": "fc70e5ad"
   },
   "source": [
    "Describe brevemente tus hallazgos y lo que hiciste con ellos.  \n",
    "Se encontro que la informacion de nombres de productos del pasillo 100 y departamento 21 no existen en el dataframe por lo tanto han sido reemplazados por 'Unknown'"
   ]
  },
  {
   "cell_type": "markdown",
   "id": "6080900a",
   "metadata": {},
   "source": [
    "<div class=\"alert alert-block alert-success\">\n",
    "<b>Comentario del revisor</b> <a class=\"tocSkip\"></a><br />\n",
    "Correcto, buena manera de encontrar valores ausentes y de reemplazarlos\n",
    "</div>\n"
   ]
  },
  {
   "cell_type": "markdown",
   "id": "7eb45c86",
   "metadata": {
    "id": "7eb45c86"
   },
   "source": [
    "### `orders` data frame"
   ]
  },
  {
   "cell_type": "code",
   "execution_count": 27,
   "id": "93e41d96",
   "metadata": {
    "id": "93e41d96"
   },
   "outputs": [
    {
     "name": "stdout",
     "output_type": "stream",
     "text": [
      "order_id  user_id  order_number  order_dow  order_hour_of_day  days_since_prior_order\n",
      "False     False    False         False      False              False                     450135\n",
      "                                                               True                       28817\n",
      "dtype: int64\n",
      "        order_id  user_id  order_number  order_dow  order_hour_of_day  \\\n",
      "28        133707   182261             1          3                 10   \n",
      "96        787445    25685             1          6                 18   \n",
      "100       294410   111449             1          0                 19   \n",
      "103      2869915   123958             1          4                 16   \n",
      "104      2521921    42286             1          3                 18   \n",
      "...          ...      ...           ...        ...                ...   \n",
      "478895   2589657   205028             1          0                 16   \n",
      "478896   2222353   141211             1          2                 13   \n",
      "478922   2272807   204154             1          1                 15   \n",
      "478926   2499542    68810             1          4                 19   \n",
      "478945   1387033    22496             1          5                 14   \n",
      "\n",
      "        days_since_prior_order  \n",
      "28                         NaN  \n",
      "96                         NaN  \n",
      "100                        NaN  \n",
      "103                        NaN  \n",
      "104                        NaN  \n",
      "...                        ...  \n",
      "478895                     NaN  \n",
      "478896                     NaN  \n",
      "478922                     NaN  \n",
      "478926                     NaN  \n",
      "478945                     NaN  \n",
      "\n",
      "[28817 rows x 6 columns]\n",
      "La cantidad de datos faltantes es :  28817\n"
     ]
    }
   ],
   "source": [
    "# Encuentra los valores ausentes\n",
    "print(orders.isna().value_counts())\n",
    "print(orders[orders['days_since_prior_order'].isna()])\n",
    "print('La cantidad de datos faltantes es : ',orders['days_since_prior_order'].isna().value_counts()[True])\n"
   ]
  },
  {
   "cell_type": "code",
   "execution_count": 28,
   "id": "166e5a86",
   "metadata": {
    "id": "166e5a86"
   },
   "outputs": [
    {
     "name": "stdout",
     "output_type": "stream",
     "text": [
      "0\n"
     ]
    }
   ],
   "source": [
    "# ¿Hay algún valor ausente que no sea el primer pedido del cliente?\n",
    "print(orders['user_id'].isna().sum())"
   ]
  },
  {
   "cell_type": "markdown",
   "id": "4e23d089",
   "metadata": {
    "id": "4e23d089"
   },
   "source": [
    "Describe brevemente tus hallazgos y lo que hiciste con ellos.  \n",
    "Los unicos datos ausentes que existen son la primera orden que realizan los clientes."
   ]
  },
  {
   "cell_type": "markdown",
   "id": "b81584ed",
   "metadata": {},
   "source": [
    "<div class=\"alert alert-block alert-success\">\n",
    "<b>Comentario del revisor</b> <a class=\"tocSkip\"></a><br />\n",
    "Corregido!\n",
    "</div>\n"
   ]
  },
  {
   "cell_type": "markdown",
   "id": "aba01d49",
   "metadata": {},
   "source": [
    "<div class=\"alert alert-block alert-danger\">\n",
    "<b>Comentario del revisor</b> <a class=\"tocSkip\"></a><br />\n",
    "No es correcto haber reemplazado estos valores ausentes.<br/>\n",
    "Para reemplazar valores ausentes debemos estar seguros de que no afectaran nuestros analisis, también debemos saber el por qué estan ausentes, en este caso, la razón de que existan valores ausentes es porque todas estas ordenes fueron la primer orden del cliente, por lo tanto no existe un valor para la columna de 'dias desde la orden anterior' ('days_since_prior_order'). Tener valores ausentes no siempre afecta a nuestros datos, incluso algunas veces, como en este caso, es la manera correcta de almacenar los datos. Existe una pregunta más adelante que nos dice 'cuantos días esperan los clientes para hacer la siguiente orden', habrá un día que se verá severamente afectado por este reemplazo de valores ausentes, supongamos que el promedio es '15 días', entonces cuando revises los datos del día 15 tendrás mas de 28 mil ordenes en ese día que no pertenecen realmente a ese día.\n",
    "</div>\n",
    "\n",
    "<div class=\"alert alert-block alert-info\">\n",
    "<b>Muchas gracias por la retroalimentacion pense que el valor 0 correspondia a la primera compra, entonces supongo que es mejor dejar el dataframe con los valores asusntes en este caso.</b> <a class=\"tocSkip\"></a>\n",
    "</div>"
   ]
  },
  {
   "cell_type": "markdown",
   "id": "69dc9ca4",
   "metadata": {
    "id": "69dc9ca4"
   },
   "source": [
    "### `order_products` data frame"
   ]
  },
  {
   "cell_type": "code",
   "execution_count": 29,
   "id": "b8240253",
   "metadata": {
    "id": "b8240253"
   },
   "outputs": [
    {
     "name": "stdout",
     "output_type": "stream",
     "text": [
      "order_id  product_id  add_to_cart_order  reordered\n",
      "False     False       False              False        4544171\n",
      "                      True               False            836\n",
      "dtype: int64\n",
      "         order_id  product_id  add_to_cart_order  reordered\n",
      "737       2449164        5068                NaN          0\n",
      "9926      1968313       43867                NaN          0\n",
      "14394     2926893       11688                NaN          0\n",
      "16418     1717990        4142                NaN          0\n",
      "30114     1959075       42828                NaN          1\n",
      "...           ...         ...                ...        ...\n",
      "4505662   1800005        7411                NaN          0\n",
      "4511400   1633337         260                NaN          0\n",
      "4517562    404157        9517                NaN          0\n",
      "4534112   1673227       17835                NaN          0\n",
      "4535739   1832957       17949                NaN          1\n",
      "\n",
      "[836 rows x 4 columns]\n",
      "La cantidad de datos ausentes es :  836\n"
     ]
    }
   ],
   "source": [
    "# Encuentra los valores ausentes\n",
    "print(order_products.isna().value_counts())\n",
    "print(order_products[order_products['add_to_cart_order'].isna()])\n",
    "print('La cantidad de datos ausentes es : ',order_products['add_to_cart_order'].isna().value_counts()[True])"
   ]
  },
  {
   "cell_type": "code",
   "execution_count": 30,
   "id": "9a78e5ee",
   "metadata": {
    "id": "9a78e5ee"
   },
   "outputs": [
    {
     "name": "stdout",
     "output_type": "stream",
     "text": [
      "El valor minimo en la columna add_to_cart_order es : 1.0\n",
      "El valor maximo en la columna add_to_cart_order es : 64.0\n"
     ]
    }
   ],
   "source": [
    "# ¿Cuáles son los valores mínimos y máximos en esta columna?\n",
    "print('El valor minimo en la columna add_to_cart_order es :',order_products['add_to_cart_order'].min())\n",
    "print('El valor maximo en la columna add_to_cart_order es :',order_products['add_to_cart_order'].max())"
   ]
  },
  {
   "cell_type": "markdown",
   "id": "-Z2Ja215jW78",
   "metadata": {
    "id": "-Z2Ja215jW78"
   },
   "source": [
    "Describe brevemente cuáles son tus hallazgos.  \n",
    "Existen datos ausentes en la columna 'add_to_cart_order' y por el maximo y el minimo de esta columna se puede concluir que el numero maximo de productos que un cliente compro es 64."
   ]
  },
  {
   "cell_type": "code",
   "execution_count": 31,
   "id": "ab9d0c2b",
   "metadata": {
    "id": "ab9d0c2b"
   },
   "outputs": [],
   "source": [
    "# Guarda todas las IDs de pedidos que tengan un valor ausente en 'add_to_cart_order'\n",
    "nan_values = order_products[order_products['add_to_cart_order'].isna()]\n",
    "# Guarda las IDs de los pedidos con valores ausentes en 'add_to_cart_order'\n",
    "nan_id = nan_values['order_id'].tolist()"
   ]
  },
  {
   "cell_type": "code",
   "execution_count": 32,
   "id": "54c31695",
   "metadata": {
    "id": "54c31695"
   },
   "outputs": [
    {
     "name": "stdout",
     "output_type": "stream",
     "text": [
      "Número mínimo de product_id en un pedido: 65\n"
     ]
    }
   ],
   "source": [
    "# ¿Todos los pedidos con valores ausentes tienen más de 64 productos?\n",
    "# Agrupa los pedidos con datos ausentes por su ID de pedido\n",
    "# Cuenta el número de 'product_id' en cada pedido y revisa el valor mínimo del conteo.\n",
    "# Encuentra el valor mínimo del conteo\n",
    "min_counted = order_products[order_products['order_id'].isin(nan_id)].groupby('order_id')['product_id'].count().min()\n",
    "print(\"Número mínimo de product_id en un pedido:\", min_counted)\n"
   ]
  },
  {
   "cell_type": "markdown",
   "id": "p9V6pddtjglj",
   "metadata": {
    "id": "p9V6pddtjglj"
   },
   "source": [
    "Describe brevemente cuáles son tus hallazgos.  \n",
    "El numero minimo de pedido donde hay datos ausentes es de 65"
   ]
  },
  {
   "cell_type": "code",
   "execution_count": 33,
   "id": "7a987d08",
   "metadata": {
    "id": "7a987d08"
   },
   "outputs": [],
   "source": [
    "# Remplaza los valores ausentes en la columna 'add_to_cart? con 999 y convierte la columna al tipo entero.\n",
    "order_products['add_to_cart_order'].fillna(999, inplace=True)\n",
    "# Convierte la columna al tipo entero\n",
    "order_products['add_to_cart_order'] = order_products['add_to_cart_order'].astype(int)"
   ]
  },
  {
   "cell_type": "markdown",
   "id": "fea4bcc7",
   "metadata": {
    "id": "fea4bcc7"
   },
   "source": [
    "Describe brevemente tus hallazgos y lo que hiciste con ellos.  \n",
    "Se reemplazan los valores ausentes con el valor 999"
   ]
  },
  {
   "cell_type": "markdown",
   "id": "f2db6d76",
   "metadata": {},
   "source": [
    "<div class=\"alert alert-block alert-success\">\n",
    "<b>Comentario del revisor</b> <a class=\"tocSkip\"></a><br />\n",
    "Corregido!\n",
    "</div>\n"
   ]
  },
  {
   "cell_type": "markdown",
   "id": "67169bb1",
   "metadata": {},
   "source": [
    "<div class=\"alert alert-block alert-danger\">\n",
    "<b>Comentario del revisor</b> <a class=\"tocSkip\"></a><br />\n",
    "Este ejercicio nos pide revisar 'cuantos articulos tienen las ordenes donde existan valores ausentes en la columna add_to_cart_order'<br/>\n",
    "\n",
    "Has hecho un buen trabajo al crear una lista con todos los 'order_id' donde existan valores nulos en la columna 'add_to_cart_order', ahora, después de eso debes filtrar el dataframe de 'order_products' para obtener solo los 'order_id' que esten en la lista 'nan_id' y los agrupas por 'order_id' y cuentas los elementos, puedes usar 'product_id' y después encuentras el mínimo, te dejo el ejemplo: <br/>\n",
    "<strong>order_products[order_products['order_id'].isin(nan_id)].groupby('order_id')['product_id'].count().min()</strong><br/>\n",
    "De esta manera te das cuenta que todos las ordenes que tengan valores ausentes en 'add_to_cart_order' es porque tienen más de 65 articulos.<br/>\n",
    "Esto puede ser un fallo en el sistema, y es esta la razón por la que sustituyes estos valores ausentes por '999'\n",
    "</div>\n",
    "<div class=\"alert alert-block alert-info\">\n",
    "<b>Muchas gracias, logre comprender como hacer el filtrado correcto de lo que se me pedia, pero sigo sin entender del todo por que se reemplaza con el valor 999, esto no afectaria a futuros calculos que involucren esa columna?</b> <a class=\"tocSkip\"></a>\n",
    "</div>\n"
   ]
  },
  {
   "cell_type": "markdown",
   "id": "fd1a793f",
   "metadata": {},
   "source": [
    "<div class=\"alert alert-block alert-success\">\n",
    "<b>Comentario del revisor</b> <a class=\"tocSkip\"></a><br />\n",
    "Todo esto tiene que ver con el tipo de análisis que se haga sobre los datos, en el caso de 'days_since_prior_order' si afectaba porque se pide un análisis especifico más adelante para esa columna, en este caso no hay un ejercicio que nos pida hacer algo con la columna 'add_to_cart_order' y realmente no afecta agregar un 999 porque el contenido de esta columna es 'el orden en que se fueron agregando los articulos al carrito', esta columna no nos va a afectar para realizar un conteo de los articulos por orden o cualquier otro tipo de análisis (no se me ocurre alguno en el que el orden en el que fueron agregados al carrito importe) y más que nada este ejercicio es para reforzar la parte de python de reemplazar valores ausentes.\n",
    "</div>\n"
   ]
  },
  {
   "cell_type": "markdown",
   "id": "RnplPFY1gSrb",
   "metadata": {
    "id": "RnplPFY1gSrb"
   },
   "source": [
    "## Conclusiones\n",
    "\n",
    "Escribe aquí tus conclusiones intermedias sobre el Paso 2. Preprocesamiento de los datos  \n",
    "Se procesaron los datos ausentes categoricos con Unknown ya que no se puede encontrar esos datos y los valores ausentes numericos con la media, asi mismo se eliminarios los datos duplicados explicitos de cada dataframe."
   ]
  },
  {
   "cell_type": "markdown",
   "id": "UjrOIwTcz3ri",
   "metadata": {
    "id": "UjrOIwTcz3ri"
   },
   "source": [
    "# Paso 3. Análisis de los datos\n",
    "\n",
    "Una vez los datos estén procesados y listos, haz el siguiente análisis:"
   ]
  },
  {
   "cell_type": "markdown",
   "id": "turkish-kidney",
   "metadata": {
    "id": "turkish-kidney"
   },
   "source": [
    "# [A] Fácil (deben completarse todos para aprobar)\n",
    "\n",
    "1. Verifica que los valores en las columnas `'order_hour_of_day'` y `'order_dow'` en la tabla orders sean razonables (es decir, `'order_hour_of_day'` oscile entre 0 y 23 y `'order_dow'` oscile entre 0 y 6).\n",
    "2. Crea un gráfico que muestre el número de personas que hacen pedidos dependiendo de la hora del día.\n",
    "3. Crea un gráfico que muestre qué día de la semana la gente hace sus compras.\n",
    "4. Crea un gráfico que muestre el tiempo que la gente espera hasta hacer su siguiente pedido, y comenta sobre los valores mínimos y máximos."
   ]
  },
  {
   "cell_type": "markdown",
   "id": "short-capability",
   "metadata": {
    "id": "short-capability"
   },
   "source": [
    "### [A1] Verifica que los valores sean sensibles"
   ]
  },
  {
   "cell_type": "code",
   "execution_count": 34,
   "id": "growing-fruit",
   "metadata": {
    "id": "growing-fruit"
   },
   "outputs": [
    {
     "name": "stdout",
     "output_type": "stream",
     "text": [
      "El valor minimo de order_hour_of_day es:  0\n",
      "El valor maximo de order_hour_of_day es:  23\n"
     ]
    }
   ],
   "source": [
    "print('El valor minimo de order_hour_of_day es: ',orders['order_hour_of_day'].min())\n",
    "print('El valor maximo de order_hour_of_day es: ',orders['order_hour_of_day'].max())"
   ]
  },
  {
   "cell_type": "code",
   "execution_count": 35,
   "id": "accessory-malaysia",
   "metadata": {
    "id": "accessory-malaysia"
   },
   "outputs": [
    {
     "name": "stdout",
     "output_type": "stream",
     "text": [
      "El valor minimo de order_dow:  0\n",
      "El valor maximo de order_dow es:  6\n"
     ]
    }
   ],
   "source": [
    "print('El valor minimo de order_dow: ',orders['order_dow'].min())\n",
    "print('El valor maximo de order_dow es: ',orders['order_dow'].max())"
   ]
  },
  {
   "cell_type": "markdown",
   "id": "hmR2GNQ6lCsX",
   "metadata": {
    "id": "hmR2GNQ6lCsX"
   },
   "source": [
    "Los valores se encuentran dentro de los rangos correctos"
   ]
  },
  {
   "cell_type": "markdown",
   "id": "b2f55e39",
   "metadata": {},
   "source": [
    "<div class=\"alert alert-block alert-success\">\n",
    "<b>Comentario del revisor</b> <a class=\"tocSkip\"></a><br />\n",
    "Correcto, buena manera de revisar que los datos sean sensibles\n",
    "</div>\n"
   ]
  },
  {
   "cell_type": "markdown",
   "id": "a6743a70",
   "metadata": {
    "id": "a6743a70"
   },
   "source": [
    "### [A2] Para cada hora del día, ¿cuántas personas hacen órdenes?"
   ]
  },
  {
   "cell_type": "code",
   "execution_count": 36,
   "id": "a36cca27",
   "metadata": {
    "id": "a36cca27"
   },
   "outputs": [
    {
     "name": "stdout",
     "output_type": "stream",
     "text": [
      "order_hour_of_day\n",
      "0      3180\n",
      "1      1763\n",
      "2       989\n",
      "3       770\n",
      "4       765\n",
      "5      1371\n",
      "6      4215\n",
      "7     13043\n",
      "8     25024\n",
      "9     35896\n",
      "10    40578\n",
      "11    40032\n",
      "12    38034\n",
      "13    39007\n",
      "14    39631\n",
      "15    39789\n",
      "16    38112\n",
      "17    31930\n",
      "18    25510\n",
      "19    19547\n",
      "20    14624\n",
      "21    11019\n",
      "22     8512\n",
      "23     5611\n",
      "Name: user_id, dtype: int64\n"
     ]
    },
    {
     "data": {
      "image/png": "[encoded data removed]",
      "text/plain": [
       "<Figure size 720x432 with 1 Axes>"
      ]
     },
     "metadata": {
      "needs_background": "light"
     },
     "output_type": "display_data"
    }
   ],
   "source": [
    "orders_per_hour = orders.groupby('order_hour_of_day')['user_id'].count()\n",
    "orders_per_hour.plot(kind='bar', figsize=(10,6), color='violet', position=0, width=0.4)\n",
    "print(orders_per_hour)\n",
    "plt.xlabel('Hora del día')\n",
    "plt.ylabel('Número de pedidos')\n",
    "plt.xticks(rotation=0)\n",
    "plt.title('Número de pedidos por hora del día')\n",
    "plt.show()"
   ]
  },
  {
   "cell_type": "markdown",
   "id": "11270eed",
   "metadata": {
    "id": "11270eed"
   },
   "source": [
    "Escribe aquí tus conclusiones  \n",
    "-Las horas de menor actividad en la aplicacion son entre las 2 y 4 am  \n",
    "-La mayor cantidad de pedidos se reciben alrededor de las 10 am lo cual puede indicar que mucha gente realiza sus pedidos anticipandose al medio dia"
   ]
  },
  {
   "cell_type": "markdown",
   "id": "8cdab231",
   "metadata": {},
   "source": [
    "<div class=\"alert alert-block alert-success\">\n",
    "<b>Comentario del revisor</b> <a class=\"tocSkip\"></a><br />\n",
    "Corregido! buena manera de graficar los resultados\n",
    "</div>"
   ]
  },
  {
   "cell_type": "markdown",
   "id": "5bc8bf93",
   "metadata": {},
   "source": [
    "<div class=\"alert alert-block alert-warning\">\n",
    "<b>Comentario del revisor</b> <a class=\"tocSkip\"></a><br />\n",
    "Los resultados son correctos. Sugeriría que graficaras los datos, de esta manera es más intuitivo revisarlo para personas de diferentes equipos de trabajo\n",
    "</div>\n",
    "<div class=\"alert alert-block alert-info\">\n",
    "<b>He agregado el grafico solicitado para mejor visualizacion de los datos</b> <a class=\"tocSkip\"></a>\n",
    "</div>\n"
   ]
  },
  {
   "cell_type": "markdown",
   "id": "documented-command",
   "metadata": {
    "id": "documented-command"
   },
   "source": [
    "### [A3] ¿Qué día de la semana compran víveres las personas?"
   ]
  },
  {
   "cell_type": "code",
   "execution_count": 37,
   "id": "chief-digit",
   "metadata": {
    "id": "chief-digit"
   },
   "outputs": [
    {
     "name": "stdout",
     "output_type": "stream",
     "text": [
      "Número de personas que compran víveres para cada día de la semana:\n",
      "order_dow\n",
      "0    57661\n",
      "1    56479\n",
      "2    48587\n",
      "3    45331\n",
      "4    44281\n",
      "5    46127\n",
      "6    45604\n",
      "Name: user_id, dtype: int64\n"
     ]
    },
    {
     "data": {
      "image/png": "[encoded data removed]",
      "text/plain": [
       "<Figure size 720x432 with 1 Axes>"
      ]
     },
     "metadata": {
      "needs_background": "light"
     },
     "output_type": "display_data"
    }
   ],
   "source": [
    "dow_id = orders.groupby('order_dow')['user_id'].nunique()\n",
    "print(\"Número de personas que compran víveres para cada día de la semana:\")\n",
    "print(dow_id)\n",
    "dow_id.plot(kind='bar', figsize=(10,6), color='pink', position=0, width=0.4)\n",
    "plt.xlabel('Dia de la semana')\n",
    "plt.ylabel('Número de pedidos')\n",
    "plt.xticks(rotation=0)\n",
    "plt.title('Número de pedidos por dia de la semana')\n",
    "plt.show()"
   ]
  },
  {
   "cell_type": "markdown",
   "id": "dominant-lightning",
   "metadata": {
    "id": "dominant-lightning"
   },
   "source": [
    "Los dias que se registran mas compras son los domingos y lunes lo cual puede indicar que las personas compran los productos en estos dias para tener la provision semanal."
   ]
  },
  {
   "cell_type": "markdown",
   "id": "92f24b2b",
   "metadata": {},
   "source": [
    "<div class=\"alert alert-block alert-success\">\n",
    "<b>Comentario del revisor</b> <a class=\"tocSkip\"></a><br />\n",
    "Corregido! es muhco más fácil ver las variaciones de pedidos en los días\n",
    "</div>"
   ]
  },
  {
   "cell_type": "markdown",
   "id": "5e06a619",
   "metadata": {},
   "source": [
    "<div class=\"alert alert-block alert-warning\">\n",
    "<b>Comentario del revisor</b> <a class=\"tocSkip\"></a><br />\n",
    "Resultados correctos, sugeriría graficar los resultdos\n",
    "</div>\n",
    "<div class=\"alert alert-block alert-info\">\n",
    "<b>He agregado el grafico solicitado para mejor visualizacion de los datos</b> <a class=\"tocSkip\"></a>\n",
    "</div>"
   ]
  },
  {
   "cell_type": "markdown",
   "id": "cutting-concert",
   "metadata": {
    "id": "cutting-concert"
   },
   "source": [
    "### [A4] ¿Cuánto tiempo esperan las personas hasta hacer otro pedido? Comenta sobre los valores mínimos y máximos."
   ]
  },
  {
   "cell_type": "code",
   "execution_count": 38,
   "id": "c231f523",
   "metadata": {
    "id": "c231f523"
   },
   "outputs": [
    {
     "name": "stdout",
     "output_type": "stream",
     "text": [
      "En promedio las personas tardan 11.101813900274362 dias en hacer otro pedido\n",
      "La cantidad de dias minimos que una persona tarda en realizar otro pedido es de:  0.0\n",
      "La cantidad de dias maximos que una persona tarda en realizar otro pedido es de:  30.0\n"
     ]
    },
    {
     "data": {
      "image/png": "[encoded data removed]",
      "text/plain": [
       "<Figure size 720x432 with 1 Axes>"
      ]
     },
     "metadata": {
      "needs_background": "light"
     },
     "output_type": "display_data"
    }
   ],
   "source": [
    "print('En promedio las personas tardan',orders['days_since_prior_order'].mean(), 'dias en hacer otro pedido')\n",
    "print('La cantidad de dias minimos que una persona tarda en realizar otro pedido es de: ', orders['days_since_prior_order'].min())\n",
    "print('La cantidad de dias maximos que una persona tarda en realizar otro pedido es de: ', orders['days_since_prior_order'].max())\n",
    "orders['days_since_prior_order'].plot(kind='hist', bins=30, figsize=(10,6), color='grey')\n",
    "plt.xlabel('Dias que tardan los clientes en comprar')\n",
    "plt.title('Distribucion de dias que tardan los clientes en hacer nuevamente una compra')\n",
    "plt.show()"
   ]
  },
  {
   "cell_type": "markdown",
   "id": "discrete-vertex",
   "metadata": {
    "id": "discrete-vertex"
   },
   "source": [
    "Escribe aquí tus conclusiones  \n",
    "-Hay personas que realizan pedidos el mismo dia ya que el minimo es 0  \n",
    "-Las personas clientes tardan maximo 30 dias en volver a hacer un pedido "
   ]
  },
  {
   "cell_type": "markdown",
   "id": "54bf3e68",
   "metadata": {},
   "source": [
    "<div class=\"alert alert-block alert-success\">\n",
    "<b>Comentario del revisor</b> <a class=\"tocSkip\"></a><br />\n",
    "Corregido! Con esta gráfica podemos obtener más observaciones interesates, durante os primeros 9 días los usuarios hacen otro pedido y estos empiezan a decaer a partir del decimo día, al final vemos un pico interesante en el día 30, esto se puede deber a que el sistema trunca el número de días a 30 pero en realidad pueden ser pedidos de 30 o más días\n",
    "</div>"
   ]
  },
  {
   "cell_type": "markdown",
   "id": "d42e75ce",
   "metadata": {},
   "source": [
    "<div class=\"alert alert-block alert-warning\">\n",
    "<b>Comentario del revisor</b> <a class=\"tocSkip\"></a><br />\n",
    "Esto recomiendo totalmente que sea una gráfica, aquí podrías observar que al reemplazar los valores ausentes en un ejercicio anterior afecta el promedio de los días, además de que puedes ver el comportamiento de los clientes a lo largo de los días\n",
    "</div>\n",
    "<div class=\"alert alert-block alert-info\">\n",
    "<b>He agregado el grafico solicitado</b> <a class=\"tocSkip\"></a>\n",
    "</div>"
   ]
  },
  {
   "cell_type": "markdown",
   "id": "tight-staff",
   "metadata": {
    "id": "tight-staff"
   },
   "source": [
    "# [B] Intermedio (deben completarse todos para aprobar)\n",
    "\n",
    "1. ¿Existe alguna diferencia entre las distribuciones `'order_hour_of_day'` de los miércoles y los sábados? Traza gráficos de barra de `'order_hour_of_day'` para ambos días en la misma figura y describe las diferencias que observes.\n",
    "2. Grafica la distribución para el número de órdenes que hacen los clientes (es decir, cuántos clientes hicieron solo 1 pedido, cuántos hicieron 2, cuántos 3, y así sucesivamente...).\n",
    "3. ¿Cuáles son los 20 principales productos que se piden con más frecuencia (muestra su identificación y nombre)?"
   ]
  },
  {
   "cell_type": "markdown",
   "id": "packed-classic",
   "metadata": {
    "id": "packed-classic"
   },
   "source": [
    "### [B1] Diferencia entre miércoles y sábados para  `'order_hour_of_day'`. Traza gráficos de barra para los dos días y describe las diferencias que veas."
   ]
  },
  {
   "cell_type": "code",
   "execution_count": 39,
   "id": "d89b8403",
   "metadata": {
    "id": "d89b8403"
   },
   "outputs": [
    {
     "data": {
      "image/png": "[encoded data removed]",
      "text/plain": [
       "<Figure size 720x432 with 1 Axes>"
      ]
     },
     "metadata": {
      "needs_background": "light"
     },
     "output_type": "display_data"
    }
   ],
   "source": [
    "# Filtra los pedidos solo para los días miércoles (3) y sábados (6)\n",
    "pedidos_miercoles = orders[orders['order_dow']==3]\n",
    "pedidos_sabado = orders[orders['order_dow']==6]\n",
    "# Agrupa por 'order_hour_of_day' y cuenta el número de pedidos\n",
    "conteo_miercoles = pedidos_miercoles.groupby('order_hour_of_day')['order_id'].count()\n",
    "conteo_sabado = pedidos_sabado.groupby('order_hour_of_day')['order_id'].count()\n",
    "# Graficar\n",
    "conteo_miercoles.plot(kind='bar', figsize=(10,6), position=1, width=0.4)\n",
    "conteo_sabado.plot(kind='bar', figsize=(10,6), color='orange', position=0, width=0.4)\n",
    "plt.xlabel('Hora del día')\n",
    "plt.ylabel('Número de pedidos')\n",
    "plt.legend(['Miércoles', 'Sábado'])\n",
    "plt.xticks(rotation=0)\n",
    "plt.title('Número de pedidos por hora del día para los días miércoles y sábado')\n",
    "plt.show()"
   ]
  },
  {
   "cell_type": "markdown",
   "id": "fdb3f3d8",
   "metadata": {
    "id": "94e54e8a"
   },
   "source": [
    "<div class=\"alert alert-block alert-success\">\n",
    "<b>Comentario del revisor</b> <a class=\"tocSkip\"></a><br />\n",
    "Correcto, buenos resultados y buena manera de mostrarlos\n",
    "</div>\n"
   ]
  },
  {
   "cell_type": "code",
   "execution_count": null,
   "id": "797c90a8",
   "metadata": {
    "id": "797c90a8"
   },
   "outputs": [],
   "source": []
  },
  {
   "cell_type": "code",
   "execution_count": null,
   "id": "35bcea30",
   "metadata": {
    "id": "35bcea30"
   },
   "outputs": [],
   "source": []
  },
  {
   "cell_type": "markdown",
   "id": "charitable-congo",
   "metadata": {
    "id": "charitable-congo"
   },
   "source": [
    "Escribe aquí tus conclusiones  \n",
    "-Por lo general se suelen hacer mas pedidos los sabados que los miercoles.  \n",
    "-El sabado a las 14 pm es cuando se realizan mas pedidos.  \n",
    "-La menor cantidad de pedidos se realizan los miercoles entre las 2 y 4 am.  \n"
   ]
  },
  {
   "cell_type": "markdown",
   "id": "e3891143",
   "metadata": {
    "id": "e3891143"
   },
   "source": [
    "### [B2] ¿Cuál es la distribución para el número de pedidos por cliente?"
   ]
  },
  {
   "cell_type": "code",
   "execution_count": 40,
   "id": "d8c26c23",
   "metadata": {
    "id": "d8c26c23"
   },
   "outputs": [
    {
     "data": {
      "image/png": "[encoded data removed]",
      "text/plain": [
       "<Figure size 720x432 with 1 Axes>"
      ]
     },
     "metadata": {
      "needs_background": "light"
     },
     "output_type": "display_data"
    }
   ],
   "source": [
    "orders['order_number'].plot(kind='hist', bins=100, figsize=(10,6))\n",
    "plt.xlabel('Clientes')\n",
    "plt.ylabel('Número de pedidos')\n",
    "plt.title('Distribucion del numero de pedidos por cliente')\n",
    "plt.show()"
   ]
  },
  {
   "cell_type": "markdown",
   "id": "a1a47ce0",
   "metadata": {
    "id": "00e69a66"
   },
   "source": [
    "<div class=\"alert alert-block alert-success\">\n",
    "<b>Comentario del revisor</b> <a class=\"tocSkip\"></a><br />\n",
    "Correcto, buen uso de la gráfica\n",
    "</div>\n"
   ]
  },
  {
   "cell_type": "markdown",
   "id": "d2eff7d5",
   "metadata": {
    "id": "d2eff7d5"
   },
   "source": [
    "Escribe aquí tus conclusiones"
   ]
  },
  {
   "cell_type": "markdown",
   "id": "54a0319c",
   "metadata": {
    "id": "54a0319c"
   },
   "source": [
    "### [B3] ¿Cuáles son los 20 productos más populares (muestra su ID y nombre)?"
   ]
  },
  {
   "cell_type": "code",
   "execution_count": 41,
   "id": "exterior-arizona",
   "metadata": {
    "id": "exterior-arizona",
    "scrolled": true
   },
   "outputs": [
    {
     "name": "stdout",
     "output_type": "stream",
     "text": [
      "Los 20 productos más populares son:\n",
      "    product_id              product_name\n",
      "0        24852                    BANANA\n",
      "1        13176    BAG OF ORGANIC BANANAS\n",
      "2        21137      ORGANIC STRAWBERRIES\n",
      "3        21903      ORGANIC BABY SPINACH\n",
      "4        47209      ORGANIC HASS AVOCADO\n",
      "5        47766           ORGANIC AVOCADO\n",
      "6        47626               LARGE LEMON\n",
      "7        16797              STRAWBERRIES\n",
      "8        26209                     LIMES\n",
      "9        27845        ORGANIC WHOLE MILK\n",
      "10       27966       ORGANIC RASPBERRIES\n",
      "11       22935      ORGANIC YELLOW ONION\n",
      "12       24964            ORGANIC GARLIC\n",
      "13       45007          ORGANIC ZUCCHINI\n",
      "14       39275       ORGANIC BLUEBERRIES\n",
      "15       49683            CUCUMBER KIRBY\n",
      "16       28204        ORGANIC FUJI APPLE\n",
      "17        5876             ORGANIC LEMON\n",
      "18        8277  APPLE HONEYCRISP ORGANIC\n",
      "19       40706    ORGANIC GRAPE TOMATOES\n"
     ]
    }
   ],
   "source": [
    "# Contar el número de veces que aparece cada producto en los pedidos\n",
    "id_productos_populares = order_products.groupby('product_id')['order_id'].nunique().sort_values(ascending=False).head(20)\n",
    "# Fusionar con los datos de los productos para obtener el nombre de los productos\n",
    "productos_populares = pd.merge(id_productos_populares, products, on='product_id')\n",
    "print(\"Los 20 productos más populares son:\")\n",
    "print(productos_populares[['product_id', 'product_name']])"
   ]
  },
  {
   "cell_type": "code",
   "execution_count": 42,
   "id": "universal-facial",
   "metadata": {
    "id": "universal-facial"
   },
   "outputs": [
    {
     "data": {
      "image/png": "[encoded data removed]",
      "text/plain": [
       "<Figure size 1080x432 with 1 Axes>"
      ]
     },
     "metadata": {
      "needs_background": "light"
     },
     "output_type": "display_data"
    }
   ],
   "source": [
    "# Graficar\n",
    "resultado_df = id_productos_populares.to_frame().reset_index().rename(columns={'order_id': 'conteo'})\n",
    "productos_populares['conteo'] = resultado_df['conteo']\n",
    "productos_populares.plot(kind='bar',x='product_name',y='conteo', figsize=(15,6), position=1, width=0.4, color='yellow')\n",
    "plt.xlabel('Nombre del producto')\n",
    "plt.ylabel('Número de pedidos')\n",
    "plt.xticks(rotation=90)\n",
    "plt.title('Productos mas populares')\n",
    "plt.show()"
   ]
  },
  {
   "cell_type": "code",
   "execution_count": null,
   "id": "bbcdd20b",
   "metadata": {
    "id": "bbcdd20b"
   },
   "outputs": [],
   "source": []
  },
  {
   "cell_type": "markdown",
   "id": "7df00f47",
   "metadata": {
    "id": "7df00f47"
   },
   "source": [
    "Escribe aquí tus conclusiones  \n",
    "-Los productos organicos como frutas son las mas populares.  \n",
    "-La mas popular es la banana.  "
   ]
  },
  {
   "cell_type": "markdown",
   "id": "74f003e3",
   "metadata": {},
   "source": [
    "<div class=\"alert alert-block alert-success\">\n",
    "<b>Comentario del revisor</b> <a class=\"tocSkip\"></a><br />\n",
    "Correcto, los clientes tienden a comprar productos orgánicos\n",
    "</div>\n"
   ]
  },
  {
   "cell_type": "markdown",
   "id": "gross-theme",
   "metadata": {
    "id": "gross-theme"
   },
   "source": [
    "# [C] Difícil (deben completarse todos para aprobar)\n",
    "\n",
    "1. ¿Cuántos artículos suelen comprar las personas en un pedido? ¿Cómo es la distribución?\n",
    "2. ¿Cuáles son los 20 principales artículos que vuelven a pedirse con mayor frecuencia (muestra sus nombres e IDs de los productos)?\n",
    "3. Para cada producto, ¿cuál es la tasa de repetición del pedido (número de repeticiones de pedido/total de pedidos?\n",
    "4. Para cada cliente, ¿qué proporción de los productos que pidió ya los había pedido? Calcula la tasa de repetición de pedido para cada usuario en lugar de para cada producto.\n",
    "5. ¿Cuáles son los 20 principales artículos que la gente pone primero en sus carritos (muestra las IDs de los productos, sus nombres, y el número de veces en que fueron el primer artículo en añadirse al carrito)?"
   ]
  },
  {
   "cell_type": "markdown",
   "id": "romantic-deposit",
   "metadata": {
    "id": "romantic-deposit"
   },
   "source": [
    "### [C1] ¿Cuántos artículos compran normalmente las personas en un pedido? ¿Cómo es la distribución?"
   ]
  },
  {
   "cell_type": "code",
   "execution_count": 43,
   "id": "virtual-punch",
   "metadata": {
    "id": "virtual-punch"
   },
   "outputs": [
    {
     "name": "stdout",
     "output_type": "stream",
     "text": [
      "El promedio de artículos por pedido es: 10.098983215049127\n"
     ]
    },
    {
     "data": {
      "image/png": "[encoded data removed]",
      "text/plain": [
       "<Figure size 720x432 with 1 Axes>"
      ]
     },
     "metadata": {
      "needs_background": "light"
     },
     "output_type": "display_data"
    }
   ],
   "source": [
    "# Calcula el número de artículos por pedido\n",
    "articulos_por_pedido = order_products.groupby('order_id')['product_id'].count()\n",
    "\n",
    "# Calcula el promedio de artículos por pedido\n",
    "promedio_articulos_por_pedido = articulos_por_pedido.mean()\n",
    "print(\"El promedio de artículos por pedido es:\", promedio_articulos_por_pedido)\n",
    "\n",
    "# Graficar la distribución de artículos por pedido\n",
    "plt.figure(figsize=(10,6))\n",
    "plt.hist(articulos_por_pedido, bins=100, color='skyblue')\n",
    "plt.xlabel('Cantidad de artículos por pedido')\n",
    "plt.ylabel('Frecuencia')\n",
    "plt.title('Distribución de artículos por pedido')\n",
    "plt.xlim(0, 60)\n",
    "plt.grid(True)\n",
    "plt.show()"
   ]
  },
  {
   "cell_type": "markdown",
   "id": "3b2faacf",
   "metadata": {
    "id": "sensitive-breathing"
   },
   "source": [
    "<div class=\"alert alert-block alert-success\">\n",
    "<b>Comentario del revisor</b> <a class=\"tocSkip\"></a><br />\n",
    "Correcto, los clientes tienden a comprar alrededor de 10 articulos\n",
    "</div>\n"
   ]
  },
  {
   "cell_type": "code",
   "execution_count": null,
   "id": "completed-frank",
   "metadata": {
    "id": "completed-frank"
   },
   "outputs": [],
   "source": []
  },
  {
   "cell_type": "markdown",
   "id": "designed-mortality",
   "metadata": {
    "id": "designed-mortality"
   },
   "source": [
    "Escribe aquí tus conclusiones  \n",
    "-La mayoria de pedidos no tienen mas de 10 articulos.  \n",
    "-La mayoria de pedidos tiene alrededor de 5 articulos."
   ]
  },
  {
   "cell_type": "markdown",
   "id": "5e6b5537",
   "metadata": {
    "id": "5e6b5537"
   },
   "source": [
    "### [C2] ¿Cuáles son los 20 principales artículos que vuelven a pedirse con mayor frecuencia (muestra sus nombres e IDs de los productos)?"
   ]
  },
  {
   "cell_type": "code",
   "execution_count": 44,
   "id": "9374e55a",
   "metadata": {
    "id": "9374e55a"
   },
   "outputs": [
    {
     "name": "stdout",
     "output_type": "stream",
     "text": [
      "Los 20 principales artículos que se vuelven a pedir con mayor frecuencia son:\n",
      "    product_id              product_name\n",
      "0        24852                    BANANA\n",
      "1        13176    BAG OF ORGANIC BANANAS\n",
      "2        21137      ORGANIC STRAWBERRIES\n",
      "3        21903      ORGANIC BABY SPINACH\n",
      "4        47209      ORGANIC HASS AVOCADO\n",
      "5        47766           ORGANIC AVOCADO\n",
      "6        27845        ORGANIC WHOLE MILK\n",
      "7        47626               LARGE LEMON\n",
      "8        27966       ORGANIC RASPBERRIES\n",
      "9        16797              STRAWBERRIES\n",
      "10       26209                     LIMES\n",
      "11       22935      ORGANIC YELLOW ONION\n",
      "12       24964            ORGANIC GARLIC\n",
      "13       45007          ORGANIC ZUCCHINI\n",
      "14       49683            CUCUMBER KIRBY\n",
      "15       28204        ORGANIC FUJI APPLE\n",
      "16        8277  APPLE HONEYCRISP ORGANIC\n",
      "17       39275       ORGANIC BLUEBERRIES\n",
      "18        5876             ORGANIC LEMON\n",
      "19       49235       ORGANIC HALF & HALF\n"
     ]
    }
   ],
   "source": [
    "# Calcula la cantidad de veces que cada producto se vuelve a pedir\n",
    "productos_vuelven_a_pedir = order_products[order_products['reordered'] == 1].groupby('product_id').size().reset_index(name='count')\n",
    "\n",
    "# Ordena los productos por la cantidad de veces que se vuelven a pedir de mayor a menor y selecciona los primeros 20\n",
    "top_20_productos_vuelven_a_pedir = productos_vuelven_a_pedir.sort_values(by='count', ascending=False).head(20)\n",
    "\n",
    "# Fusiona con los datos de los productos para obtener los nombres de los productos\n",
    "top_20_productos = pd.merge(top_20_productos_vuelven_a_pedir, products, on='product_id')\n",
    "\n",
    "print(\"Los 20 principales artículos que se vuelven a pedir con mayor frecuencia son:\")\n",
    "print(top_20_productos[['product_id', 'product_name']])"
   ]
  },
  {
   "cell_type": "markdown",
   "id": "80e70c74",
   "metadata": {
    "id": "80e70c74"
   },
   "source": [
    "Escribe aquí tus conclusiones  \n",
    "-La lista es bastante similar a la de los productos mas pedidos.  \n",
    "-El producto que se vuelve a pedir con mayor frecuencia es BANANA."
   ]
  },
  {
   "cell_type": "markdown",
   "id": "521c6e28",
   "metadata": {},
   "source": [
    "<div class=\"alert alert-block alert-success\">\n",
    "<b>Comentario del revisor</b> <a class=\"tocSkip\"></a><br />\n",
    "Bien hecho, los articulos que más se vuelven a comprar son parecidos a los veinte más populares\n",
    "</div>\n"
   ]
  },
  {
   "cell_type": "markdown",
   "id": "9d312b14",
   "metadata": {
    "id": "9d312b14"
   },
   "source": [
    "### [C3] Para cada producto, ¿cuál es la proporción de las veces que se pide y que se vuelve a pedir?"
   ]
  },
  {
   "cell_type": "code",
   "execution_count": 45,
   "id": "8ae9f4b1",
   "metadata": {
    "id": "8ae9f4b1"
   },
   "outputs": [
    {
     "name": "stdout",
     "output_type": "stream",
     "text": [
      "Proporción de las veces que se pide y que se vuelve a pedir para cada producto:\n",
      "                                            product_name  \\\n",
      "0                             CHOCOLATE SANDWICH COOKIES   \n",
      "1                                       ALL-SEASONS SALT   \n",
      "2                   ROBUST GOLDEN UNSWEETENED OOLONG TEA   \n",
      "3      SMART ONES CLASSIC FAVORITES MINI RIGATONI WIT...   \n",
      "4                         PURE COCONUT WATER WITH ORANGE   \n",
      "...                                                  ...   \n",
      "45568                      HIGH PERFORMANCE ENERGY DRINK   \n",
      "45569                      ORIGINAL PANCAKE & WAFFLE MIX   \n",
      "45570    ORGANIC INSTANT OATMEAL LIGHT MAPLE BROWN SUGAR   \n",
      "45571                             SPRING WATER BODY WASH   \n",
      "45572                            BURRITO- STEAK & CHEESE   \n",
      "\n",
      "       proporcion_vuelve_a_pedir  \n",
      "0                       0.564286  \n",
      "1                       0.000000  \n",
      "2                       0.738095  \n",
      "3                       0.510204  \n",
      "4                       0.500000  \n",
      "...                          ...  \n",
      "45568                   0.800000  \n",
      "45569                   0.430556  \n",
      "45570                   0.416667  \n",
      "45571                   0.440000  \n",
      "45572                   0.333333  \n",
      "\n",
      "[45573 rows x 2 columns]\n"
     ]
    }
   ],
   "source": [
    "# Calcula la cantidad de veces que se pide y que se vuelve a pedir cada producto\n",
    "conteo_productos = order_products.groupby('product_id')['reordered'].agg(total_pedidos='count', veces_vuelve_a_pedir='sum').reset_index()\n",
    "\n",
    "# Fusiona con los datos de los productos para obtener los nombres de los productos\n",
    "conteo_productos = pd.merge(conteo_productos, products, on='product_id')\n",
    "\n",
    "# Calcula la proporción de las veces que se vuelve a pedir respecto a las veces que se pide para cada producto\n",
    "conteo_productos['proporcion_vuelve_a_pedir'] = conteo_productos['veces_vuelve_a_pedir'] / conteo_productos['total_pedidos']\n",
    "\n",
    "print(\"Proporción de las veces que se pide y que se vuelve a pedir para cada producto:\")\n",
    "print(conteo_productos[[ 'product_name', 'proporcion_vuelve_a_pedir']])"
   ]
  },
  {
   "cell_type": "markdown",
   "id": "I10dEIAyldcO",
   "metadata": {
    "id": "I10dEIAyldcO"
   },
   "source": [
    "Escribe aquí tus conclusiones  \n",
    "-La proporcion no puede ser mayor a 1"
   ]
  },
  {
   "cell_type": "markdown",
   "id": "subject-boxing",
   "metadata": {
    "id": "subject-boxing"
   },
   "source": [
    "### [C4] Para cada cliente, ¿qué proporción de sus productos ya los había pedido?"
   ]
  },
  {
   "cell_type": "code",
   "execution_count": 46,
   "id": "616459ef",
   "metadata": {},
   "outputs": [],
   "source": [
    "newdf = pd.merge(orders, order_products, on='order_id')"
   ]
  },
  {
   "cell_type": "code",
   "execution_count": 47,
   "id": "ae00e33f",
   "metadata": {},
   "outputs": [],
   "source": [
    "productos_por_cliente = newdf.groupby('user_id')['product_id'].count().reset_index()"
   ]
  },
  {
   "cell_type": "code",
   "execution_count": 48,
   "id": "ac713a5b",
   "metadata": {},
   "outputs": [
    {
     "name": "stdout",
     "output_type": "stream",
     "text": [
      "0         6.076923\n",
      "1         0.000000\n",
      "2         2.583333\n",
      "3         6.250000\n",
      "4         0.071429\n",
      "            ...   \n",
      "149621         NaN\n",
      "149622         NaN\n",
      "149623         NaN\n",
      "149624         NaN\n",
      "149625         NaN\n",
      "Name: calculo, Length: 149626, dtype: float64\n"
     ]
    }
   ],
   "source": [
    "productos_por_cliente\n",
    "productos_por_cliente['calculo'] = conteo_productos['veces_vuelve_a_pedir']/productos_por_cliente['product_id']\n",
    "print(productos_por_cliente['calculo'])"
   ]
  },
  {
   "cell_type": "code",
   "execution_count": 49,
   "id": "bc72a30f",
   "metadata": {},
   "outputs": [
    {
     "name": "stdout",
     "output_type": "stream",
     "text": [
      "        user_id  product_id\n",
      "0             2    0.961538\n",
      "1             4    1.000000\n",
      "2             5    1.000000\n",
      "3             6    1.000000\n",
      "4             7    0.928571\n",
      "...         ...         ...\n",
      "149621   206203    1.000000\n",
      "149622   206206    0.809524\n",
      "149623   206207    0.717391\n",
      "149624   206208    0.640000\n",
      "149625   206209    1.000000\n",
      "\n",
      "[149626 rows x 2 columns]\n"
     ]
    }
   ],
   "source": [
    "# Calcula la cantidad de veces que se pide y que se vuelve a pedir cada producto\n",
    "#los productos por persona los sacas uniendo todos los id de los productos agrupados por cada id de persona y sumados, mientras que los productos que ya habian ordenado se los saca filtrando el reordered.\n",
    "# Calcula la proporción de las veces que se vuelve a pedir respecto a las veces que se pide para cada producto\n",
    "pedidos_con_cliente = order_products.merge(orders[['order_id', 'user_id']], on='order_id')\n",
    "total_productos_por_cliente = pedidos_con_cliente.groupby('user_id')['product_id'].count()\n",
    "productos_unicos_por_cliente = pedidos_con_cliente.groupby('user_id')['product_id'].nunique()\n",
    "proporcion_productos_ya_pedidos = productos_unicos_por_cliente / total_productos_por_cliente\n",
    "proporcion_productos_ya_pedidos = proporcion_productos_ya_pedidos.reset_index()\n",
    "print(proporcion_productos_ya_pedidos)\n"
   ]
  },
  {
   "cell_type": "markdown",
   "id": "ea3ac06f",
   "metadata": {},
   "source": [
    "<div class=\"alert alert-block alert-success\">\n",
    "<b>Comentario del revisor</b> <a class=\"tocSkip\"></a><br />\n",
    "Corregido!\n",
    "</div>\n"
   ]
  },
  {
   "cell_type": "markdown",
   "id": "73bb4a6b",
   "metadata": {},
   "source": [
    "<div class=\"alert alert-block alert-danger\">\n",
    "<b>Comentario del revisor</b> <a class=\"tocSkip\"></a><br />\n",
    "El código falla porque hay algunos errores, como esta linea:<br/>\n",
    "productos_por_cliente['conteo_total'] = newdf.groupby('user_id')['product_id'].count() <br/>\n",
    "productos_por_cliente aun no existe por lo que usar una columna de una dataframe que no existe es incorrecto, te dejo un código que sigue la lógica que has estado usando:<br/>\n",
    "pedidos_con_cliente = order_products.merge(orders[['order_id', 'user_id']], on='order_id')<br/>\n",
    "total_productos_por_cliente = pedidos_con_cliente.groupby('user_id')['product_id'].count()<br/>\n",
    "productos_unicos_por_cliente = pedidos_con_cliente.groupby('user_id')['product_id'].nunique()<br/>\n",
    "proporcion_productos_ya_pedidos = productos_unicos_por_cliente / total_productos_por_cliente<br/>\n",
    "proporcion_productos_ya_pedidos = proporcion_productos_ya_pedidos.reset_index()<br/>\n",
    "print(proporcion_productos_ya_pedidos)<br/>\n",
    "</div>\n"
   ]
  },
  {
   "cell_type": "markdown",
   "id": "BgJSvXDsleXz",
   "metadata": {
    "id": "BgJSvXDsleXz"
   },
   "source": [
    "<div class=\"alert alert-block alert-info\">\n",
    "<b>Muchas gracias por la aclaracion, mas arriba habia implementado el codigo para la creacion del dataframe pero se me paso por alto esta vez</b> <a class=\"tocSkip\"></a>\n",
    "</div>"
   ]
  },
  {
   "cell_type": "markdown",
   "id": "92d35137",
   "metadata": {
    "id": "92d35137"
   },
   "source": [
    "### [C5] ¿Cuáles son los 20 principales artículos que las personas ponen primero en sus carritos?"
   ]
  },
  {
   "cell_type": "code",
   "execution_count": 50,
   "id": "0ae57274",
   "metadata": {
    "id": "0ae57274",
    "scrolled": true
   },
   "outputs": [
    {
     "name": "stdout",
     "output_type": "stream",
     "text": [
      "Los 20 principales artículos que las personas ponen primero en sus carritos son:\n",
      "       product_id                 product_name\n",
      "24851       24852                       BANANA\n",
      "13175       13176       BAG OF ORGANIC BANANAS\n",
      "27844       27845           ORGANIC WHOLE MILK\n",
      "21136       21137         ORGANIC STRAWBERRIES\n",
      "47208       47209         ORGANIC HASS AVOCADO\n",
      "21902       21903         ORGANIC BABY SPINACH\n",
      "47765       47766              ORGANIC AVOCADO\n",
      "19659       19660                 SPRING WATER\n",
      "16796       16797                 STRAWBERRIES\n",
      "27965       27966          ORGANIC RASPBERRIES\n",
      "44631       44632   SPARKLING WATER GRAPEFRUIT\n",
      "49234       49235          ORGANIC HALF & HALF\n",
      "47625       47626                  LARGE LEMON\n",
      "195           196                         SODA\n",
      "38688       38689     ORGANIC REDUCED FAT MILK\n",
      "26208       26209                        LIMES\n",
      "12340       12341                HASS AVOCADOS\n",
      "5784         5785  ORGANIC REDUCED FAT 2% MILK\n",
      "27085       27086                  HALF & HALF\n",
      "22934       22935         ORGANIC YELLOW ONION\n"
     ]
    }
   ],
   "source": [
    "# Primero, filtramos los productos que se agregaron primero en el carrito (add_to_cart_order == 1)\n",
    "primeros_productos = order_products[order_products['add_to_cart_order'] == 1]\n",
    "\n",
    "# Luego, contamos la frecuencia de cada producto que se agregó primero y seleccionamos los 20 principales\n",
    "top_20_primeros_productos = primeros_productos['product_id'].value_counts().head(20)\n",
    "top_20_primeros_productos_con_nombres = pd.merge(top_20_primeros_productos, products, left_index=True, right_on='product_id')\n",
    "\n",
    "print(\"Los 20 principales artículos que las personas ponen primero en sus carritos son:\")\n",
    "print(top_20_primeros_productos_con_nombres[['product_id', 'product_name']])"
   ]
  },
  {
   "cell_type": "markdown",
   "id": "55563321",
   "metadata": {
    "id": "forty-netherlands",
    "scrolled": true
   },
   "source": [
    "<div class=\"alert alert-block alert-success\">\n",
    "<b>Comentario del revisor</b> <a class=\"tocSkip\"></a><br />\n",
    "Correcto, una vez más los productos orgánicos estan presentes\n",
    "</div>\n"
   ]
  },
  {
   "cell_type": "markdown",
   "id": "28ce9872",
   "metadata": {
    "id": "28ce9872"
   },
   "source": [
    "Escribe aquí tus conclusiones  \n",
    "-Lo primero que las personas agregan a su carrito han sido Bananas"
   ]
  },
  {
   "cell_type": "markdown",
   "id": "uITbFCEoDosC",
   "metadata": {
    "id": "uITbFCEoDosC"
   },
   "source": [
    "### Conclusion general del proyecto:"
   ]
  },
  {
   "cell_type": "code",
   "execution_count": 51,
   "id": "Nk-4GS7mDwqY",
   "metadata": {
    "id": "Nk-4GS7mDwqY"
   },
   "outputs": [
    {
     "name": "stdout",
     "output_type": "stream",
     "text": [
      "El analisis de los datos ha permitido conocer las tendecias de pedidos que se han generado en la plataforma, lo cual nos permite saber el estado general de este negocio y ademas profundizar un poco mas en sus caracteristicas y metricas.\n"
     ]
    }
   ],
   "source": [
    "print('El analisis de los datos ha permitido conocer las tendecias de pedidos que se han generado en la plataforma, lo cual nos permite saber el estado general de este negocio y ademas profundizar un poco mas en sus caracteristicas y metricas.')"
   ]
  },
  {
   "cell_type": "markdown",
   "id": "03f18d65",
   "metadata": {},
   "source": [
    "<div class=\"alert alert-block alert-success\">\n",
    "<b>Comentario del revisor</b> <a class=\"tocSkip\"></a><br />\n",
    "Has realizado un buen trabajo, me doy cuenta de que has aplicado los conocimientos que has adquirido durante el curso, las conclusiones a las que llegaste son buenas, las correcciones se realizaron apropiadamente y los procedimientos realizados son correctos, este es un ejercicio que se asemeja bastante a algunas tareas reales que se hacen en las empresas, estos análisis son muy útiles para crear nuevas estrategias de marketing o para hacer los procesos en el almacén más eficientes.\n",
    "Continúa con el buen trabajo y mucho éxito en el siguiente Sprint!\n",
    "\n",
    "</div>\n"
   ]
  }
 ],
 "metadata": {
  "colab": {
   "provenance": []
  },
  "kernelspec": {
   "display_name": "Python 3 (ipykernel)",
   "language": "python",
   "name": "python3"
  },
  "language_info": {
   "codemirror_mode": {
    "name": "ipython",
    "version": 3
   },
   "file_extension": ".py",
   "mimetype": "text/x-python",
   "name": "python",
   "nbconvert_exporter": "python",
   "pygments_lexer": "ipython3",
   "version": "3.9.19"
  },
  "toc": {
   "base_numbering": 1,
   "nav_menu": {
    "height": "365px",
    "width": "617.6px"
   },
   "number_sections": true,
   "sideBar": true,
   "skip_h1_title": true,
   "title_cell": "Table of Contents",
   "title_sidebar": "Contents",
   "toc_cell": false,
   "toc_position": {},
   "toc_section_display": true,
   "toc_window_display": false
  },
  "vscode": {
   "interpreter": {
    "hash": "01a7be9ec63e704a62cefc5fe7a4756944464ee731be31632bdf42a4cb4688cf"
   }
  }
 },
 "nbformat": 4,
 "nbformat_minor": 5
}
